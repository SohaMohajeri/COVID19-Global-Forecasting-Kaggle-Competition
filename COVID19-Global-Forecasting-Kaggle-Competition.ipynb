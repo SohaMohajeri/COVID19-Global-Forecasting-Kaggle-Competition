{
 "cells": [
  {
   "cell_type": "markdown",
   "metadata": {
    "papermill": {
     "duration": 0.100724,
     "end_time": "2020-10-10T03:35:02.535927",
     "exception": false,
     "start_time": "2020-10-10T03:35:02.435203",
     "status": "completed"
    },
    "tags": []
   },
   "source": [
    "## 1. Importing Libraries"
   ]
  },
  {
   "cell_type": "code",
   "execution_count": 1,
   "metadata": {
    "execution": {
     "iopub.execute_input": "2020-10-10T03:35:02.750952Z",
     "iopub.status.busy": "2020-10-10T03:35:02.749833Z",
     "iopub.status.idle": "2020-10-10T03:35:07.195357Z",
     "shell.execute_reply": "2020-10-10T03:35:07.194532Z"
    },
    "papermill": {
     "duration": 4.560135,
     "end_time": "2020-10-10T03:35:07.195513",
     "exception": false,
     "start_time": "2020-10-10T03:35:02.635378",
     "status": "completed"
    },
    "tags": []
   },
   "outputs": [
    {
     "data": {
      "text/html": [
       "        <script type=\"text/javascript\">\n",
       "        window.PlotlyConfig = {MathJaxConfig: 'local'};\n",
       "        if (window.MathJax) {MathJax.Hub.Config({SVG: {font: \"STIX-Web\"}});}\n",
       "        if (typeof require !== 'undefined') {\n",
       "        require.undef(\"plotly\");\n",
       "        requirejs.config({\n",
       "            paths: {\n",
       "                'plotly': ['https://cdn.plot.ly/plotly-latest.min']\n",
       "            }\n",
       "        });\n",
       "        require(['plotly'], function(Plotly) {\n",
       "            window._Plotly = Plotly;\n",
       "        });\n",
       "        }\n",
       "        </script>\n",
       "        "
      ]
     },
     "metadata": {},
     "output_type": "display_data"
    }
   ],
   "source": [
    "import numpy as np\n",
    "import pandas as pd\n",
    "import matplotlib.pyplot as plt\n",
    "import seaborn as sns\n",
    "%matplotlib inline\n",
    "import plotly.express as px\n",
    "import cufflinks as cf\n",
    "cf.go_offline()\n",
    "from sklearn.preprocessing import LabelEncoder\n",
    "from sklearn.model_selection import train_test_split \n",
    "from sklearn.ensemble import RandomForestRegressor\n",
    "import xgboost as xgb\n",
    "from sklearn import metrics\n",
    "import plotly.io as pio\n",
    "pio.renderers.default='notebook'\n",
    "from IPython.display import Image"
   ]
  },
  {
   "cell_type": "markdown",
   "metadata": {
    "papermill": {
     "duration": 0.103158,
     "end_time": "2020-10-10T03:35:07.405782",
     "exception": false,
     "start_time": "2020-10-10T03:35:07.302624",
     "status": "completed"
    },
    "tags": []
   },
   "source": [
    "## 2. Loading Datasets"
   ]
  },
  {
   "cell_type": "code",
   "execution_count": 2,
   "metadata": {
    "execution": {
     "iopub.execute_input": "2020-10-10T03:35:07.619229Z",
     "iopub.status.busy": "2020-10-10T03:35:07.618427Z",
     "iopub.status.idle": "2020-10-10T03:35:09.228116Z",
     "shell.execute_reply": "2020-10-10T03:35:09.227222Z"
    },
    "papermill": {
     "duration": 1.719848,
     "end_time": "2020-10-10T03:35:09.228319",
     "exception": false,
     "start_time": "2020-10-10T03:35:07.508471",
     "status": "completed"
    },
    "tags": []
   },
   "outputs": [
    {
     "name": "stderr",
     "output_type": "stream",
     "text": [
      "C:\\Users\\Soha\\Anaconda3\\lib\\site-packages\\IPython\\core\\interactiveshell.py:3058: DtypeWarning:\n",
      "\n",
      "Columns (1) have mixed types. Specify dtype option on import or set low_memory=False.\n",
      "\n"
     ]
    }
   ],
   "source": [
    "train=pd.read_csv('train.csv')"
   ]
  },
  {
   "cell_type": "code",
   "execution_count": 3,
   "metadata": {
    "execution": {
     "iopub.execute_input": "2020-10-10T03:35:09.440077Z",
     "iopub.status.busy": "2020-10-10T03:35:09.439262Z",
     "iopub.status.idle": "2020-10-10T03:35:09.892322Z",
     "shell.execute_reply": "2020-10-10T03:35:09.891459Z"
    },
    "papermill": {
     "duration": 0.561521,
     "end_time": "2020-10-10T03:35:09.892465",
     "exception": false,
     "start_time": "2020-10-10T03:35:09.330944",
     "status": "completed"
    },
    "tags": []
   },
   "outputs": [],
   "source": [
    "test=pd.read_csv('test.csv')"
   ]
  },
  {
   "cell_type": "code",
   "execution_count": 4,
   "metadata": {
    "execution": {
     "iopub.execute_input": "2020-10-10T03:35:10.111741Z",
     "iopub.status.busy": "2020-10-10T03:35:10.110766Z",
     "iopub.status.idle": "2020-10-10T03:35:10.116570Z",
     "shell.execute_reply": "2020-10-10T03:35:10.115908Z"
    },
    "papermill": {
     "duration": 0.120549,
     "end_time": "2020-10-10T03:35:10.116724",
     "exception": false,
     "start_time": "2020-10-10T03:35:09.996175",
     "status": "completed"
    },
    "tags": []
   },
   "outputs": [
    {
     "data": {
      "text/plain": [
       "(969640, 9)"
      ]
     },
     "execution_count": 4,
     "metadata": {},
     "output_type": "execute_result"
    }
   ],
   "source": [
    "train.shape"
   ]
  },
  {
   "cell_type": "code",
   "execution_count": 5,
   "metadata": {
    "execution": {
     "iopub.execute_input": "2020-10-10T03:35:10.350310Z",
     "iopub.status.busy": "2020-10-10T03:35:10.340929Z",
     "iopub.status.idle": "2020-10-10T03:35:10.363437Z",
     "shell.execute_reply": "2020-10-10T03:35:10.364100Z"
    },
    "papermill": {
     "duration": 0.141688,
     "end_time": "2020-10-10T03:35:10.364289",
     "exception": false,
     "start_time": "2020-10-10T03:35:10.222601",
     "status": "completed"
    },
    "tags": []
   },
   "outputs": [
    {
     "data": {
      "text/html": [
       "<div>\n",
       "<style scoped>\n",
       "    .dataframe tbody tr th:only-of-type {\n",
       "        vertical-align: middle;\n",
       "    }\n",
       "\n",
       "    .dataframe tbody tr th {\n",
       "        vertical-align: top;\n",
       "    }\n",
       "\n",
       "    .dataframe thead th {\n",
       "        text-align: right;\n",
       "    }\n",
       "</style>\n",
       "<table border=\"1\" class=\"dataframe\">\n",
       "  <thead>\n",
       "    <tr style=\"text-align: right;\">\n",
       "      <th></th>\n",
       "      <th>Id</th>\n",
       "      <th>County</th>\n",
       "      <th>Province_State</th>\n",
       "      <th>Country_Region</th>\n",
       "      <th>Population</th>\n",
       "      <th>Weight</th>\n",
       "      <th>Date</th>\n",
       "      <th>Target</th>\n",
       "      <th>TargetValue</th>\n",
       "    </tr>\n",
       "  </thead>\n",
       "  <tbody>\n",
       "    <tr>\n",
       "      <td>0</td>\n",
       "      <td>1</td>\n",
       "      <td>NaN</td>\n",
       "      <td>NaN</td>\n",
       "      <td>Afghanistan</td>\n",
       "      <td>27657145</td>\n",
       "      <td>0.058359</td>\n",
       "      <td>2020-01-23</td>\n",
       "      <td>ConfirmedCases</td>\n",
       "      <td>0</td>\n",
       "    </tr>\n",
       "    <tr>\n",
       "      <td>1</td>\n",
       "      <td>2</td>\n",
       "      <td>NaN</td>\n",
       "      <td>NaN</td>\n",
       "      <td>Afghanistan</td>\n",
       "      <td>27657145</td>\n",
       "      <td>0.583587</td>\n",
       "      <td>2020-01-23</td>\n",
       "      <td>Fatalities</td>\n",
       "      <td>0</td>\n",
       "    </tr>\n",
       "    <tr>\n",
       "      <td>2</td>\n",
       "      <td>3</td>\n",
       "      <td>NaN</td>\n",
       "      <td>NaN</td>\n",
       "      <td>Afghanistan</td>\n",
       "      <td>27657145</td>\n",
       "      <td>0.058359</td>\n",
       "      <td>2020-01-24</td>\n",
       "      <td>ConfirmedCases</td>\n",
       "      <td>0</td>\n",
       "    </tr>\n",
       "  </tbody>\n",
       "</table>\n",
       "</div>"
      ],
      "text/plain": [
       "   Id County Province_State Country_Region  Population    Weight        Date  \\\n",
       "0   1    NaN            NaN    Afghanistan    27657145  0.058359  2020-01-23   \n",
       "1   2    NaN            NaN    Afghanistan    27657145  0.583587  2020-01-23   \n",
       "2   3    NaN            NaN    Afghanistan    27657145  0.058359  2020-01-24   \n",
       "\n",
       "           Target  TargetValue  \n",
       "0  ConfirmedCases            0  \n",
       "1      Fatalities            0  \n",
       "2  ConfirmedCases            0  "
      ]
     },
     "execution_count": 5,
     "metadata": {},
     "output_type": "execute_result"
    }
   ],
   "source": [
    "train.head(3)"
   ]
  },
  {
   "cell_type": "code",
   "execution_count": 6,
   "metadata": {
    "execution": {
     "iopub.execute_input": "2020-10-10T03:35:10.582558Z",
     "iopub.status.busy": "2020-10-10T03:35:10.581722Z",
     "iopub.status.idle": "2020-10-10T03:35:11.121573Z",
     "shell.execute_reply": "2020-10-10T03:35:11.122334Z"
    },
    "papermill": {
     "duration": 0.651956,
     "end_time": "2020-10-10T03:35:11.122531",
     "exception": false,
     "start_time": "2020-10-10T03:35:10.470575",
     "status": "completed"
    },
    "tags": []
   },
   "outputs": [
    {
     "name": "stdout",
     "output_type": "stream",
     "text": [
      "<class 'pandas.core.frame.DataFrame'>\n",
      "RangeIndex: 969640 entries, 0 to 969639\n",
      "Data columns (total 9 columns):\n",
      "Id                969640 non-null int64\n",
      "County            880040 non-null object\n",
      "Province_State    917280 non-null object\n",
      "Country_Region    969640 non-null object\n",
      "Population        969640 non-null int64\n",
      "Weight            969640 non-null float64\n",
      "Date              969640 non-null object\n",
      "Target            969640 non-null object\n",
      "TargetValue       969640 non-null int64\n",
      "dtypes: float64(1), int64(3), object(5)\n",
      "memory usage: 66.6+ MB\n"
     ]
    }
   ],
   "source": [
    "train.info()"
   ]
  },
  {
   "cell_type": "code",
   "execution_count": 7,
   "metadata": {
    "execution": {
     "iopub.execute_input": "2020-10-10T03:35:11.339940Z",
     "iopub.status.busy": "2020-10-10T03:35:11.339092Z",
     "iopub.status.idle": "2020-10-10T03:35:11.343831Z",
     "shell.execute_reply": "2020-10-10T03:35:11.343079Z"
    },
    "papermill": {
     "duration": 0.117392,
     "end_time": "2020-10-10T03:35:11.343955",
     "exception": false,
     "start_time": "2020-10-10T03:35:11.226563",
     "status": "completed"
    },
    "tags": []
   },
   "outputs": [
    {
     "data": {
      "text/plain": [
       "(311670, 8)"
      ]
     },
     "execution_count": 7,
     "metadata": {},
     "output_type": "execute_result"
    }
   ],
   "source": [
    "test.shape"
   ]
  },
  {
   "cell_type": "code",
   "execution_count": 8,
   "metadata": {
    "execution": {
     "iopub.execute_input": "2020-10-10T03:35:11.572041Z",
     "iopub.status.busy": "2020-10-10T03:35:11.571127Z",
     "iopub.status.idle": "2020-10-10T03:35:11.576254Z",
     "shell.execute_reply": "2020-10-10T03:35:11.575493Z"
    },
    "papermill": {
     "duration": 0.126959,
     "end_time": "2020-10-10T03:35:11.576433",
     "exception": false,
     "start_time": "2020-10-10T03:35:11.449474",
     "status": "completed"
    },
    "tags": []
   },
   "outputs": [
    {
     "data": {
      "text/html": [
       "<div>\n",
       "<style scoped>\n",
       "    .dataframe tbody tr th:only-of-type {\n",
       "        vertical-align: middle;\n",
       "    }\n",
       "\n",
       "    .dataframe tbody tr th {\n",
       "        vertical-align: top;\n",
       "    }\n",
       "\n",
       "    .dataframe thead th {\n",
       "        text-align: right;\n",
       "    }\n",
       "</style>\n",
       "<table border=\"1\" class=\"dataframe\">\n",
       "  <thead>\n",
       "    <tr style=\"text-align: right;\">\n",
       "      <th></th>\n",
       "      <th>ForecastId</th>\n",
       "      <th>County</th>\n",
       "      <th>Province_State</th>\n",
       "      <th>Country_Region</th>\n",
       "      <th>Population</th>\n",
       "      <th>Weight</th>\n",
       "      <th>Date</th>\n",
       "      <th>Target</th>\n",
       "    </tr>\n",
       "  </thead>\n",
       "  <tbody>\n",
       "    <tr>\n",
       "      <td>0</td>\n",
       "      <td>1</td>\n",
       "      <td>NaN</td>\n",
       "      <td>NaN</td>\n",
       "      <td>Afghanistan</td>\n",
       "      <td>27657145</td>\n",
       "      <td>0.058359</td>\n",
       "      <td>2020-04-27</td>\n",
       "      <td>ConfirmedCases</td>\n",
       "    </tr>\n",
       "    <tr>\n",
       "      <td>1</td>\n",
       "      <td>2</td>\n",
       "      <td>NaN</td>\n",
       "      <td>NaN</td>\n",
       "      <td>Afghanistan</td>\n",
       "      <td>27657145</td>\n",
       "      <td>0.583587</td>\n",
       "      <td>2020-04-27</td>\n",
       "      <td>Fatalities</td>\n",
       "    </tr>\n",
       "    <tr>\n",
       "      <td>2</td>\n",
       "      <td>3</td>\n",
       "      <td>NaN</td>\n",
       "      <td>NaN</td>\n",
       "      <td>Afghanistan</td>\n",
       "      <td>27657145</td>\n",
       "      <td>0.058359</td>\n",
       "      <td>2020-04-28</td>\n",
       "      <td>ConfirmedCases</td>\n",
       "    </tr>\n",
       "  </tbody>\n",
       "</table>\n",
       "</div>"
      ],
      "text/plain": [
       "   ForecastId County Province_State Country_Region  Population    Weight  \\\n",
       "0           1    NaN            NaN    Afghanistan    27657145  0.058359   \n",
       "1           2    NaN            NaN    Afghanistan    27657145  0.583587   \n",
       "2           3    NaN            NaN    Afghanistan    27657145  0.058359   \n",
       "\n",
       "         Date          Target  \n",
       "0  2020-04-27  ConfirmedCases  \n",
       "1  2020-04-27      Fatalities  \n",
       "2  2020-04-28  ConfirmedCases  "
      ]
     },
     "execution_count": 8,
     "metadata": {},
     "output_type": "execute_result"
    }
   ],
   "source": [
    "test.head(3)"
   ]
  },
  {
   "cell_type": "code",
   "execution_count": 9,
   "metadata": {
    "execution": {
     "iopub.execute_input": "2020-10-10T03:35:11.797332Z",
     "iopub.status.busy": "2020-10-10T03:35:11.796568Z",
     "iopub.status.idle": "2020-10-10T03:35:11.974771Z",
     "shell.execute_reply": "2020-10-10T03:35:11.975344Z"
    },
    "papermill": {
     "duration": 0.290968,
     "end_time": "2020-10-10T03:35:11.975542",
     "exception": false,
     "start_time": "2020-10-10T03:35:11.684574",
     "status": "completed"
    },
    "tags": []
   },
   "outputs": [
    {
     "name": "stdout",
     "output_type": "stream",
     "text": [
      "<class 'pandas.core.frame.DataFrame'>\n",
      "RangeIndex: 311670 entries, 0 to 311669\n",
      "Data columns (total 8 columns):\n",
      "ForecastId        311670 non-null int64\n",
      "County            282870 non-null object\n",
      "Province_State    294840 non-null object\n",
      "Country_Region    311670 non-null object\n",
      "Population        311670 non-null int64\n",
      "Weight            311670 non-null float64\n",
      "Date              311670 non-null object\n",
      "Target            311670 non-null object\n",
      "dtypes: float64(1), int64(2), object(5)\n",
      "memory usage: 19.0+ MB\n"
     ]
    }
   ],
   "source": [
    "test.info()"
   ]
  },
  {
   "cell_type": "markdown",
   "metadata": {
    "papermill": {
     "duration": 0.106055,
     "end_time": "2020-10-10T03:35:12.189322",
     "exception": false,
     "start_time": "2020-10-10T03:35:12.083267",
     "status": "completed"
    },
    "tags": []
   },
   "source": [
    "## 3. Data Cleaning"
   ]
  },
  {
   "cell_type": "code",
   "execution_count": 10,
   "metadata": {
    "execution": {
     "iopub.execute_input": "2020-10-10T03:35:12.410290Z",
     "iopub.status.busy": "2020-10-10T03:35:12.409534Z",
     "iopub.status.idle": "2020-10-10T03:35:12.944850Z",
     "shell.execute_reply": "2020-10-10T03:35:12.944049Z"
    },
    "papermill": {
     "duration": 0.648057,
     "end_time": "2020-10-10T03:35:12.944989",
     "exception": false,
     "start_time": "2020-10-10T03:35:12.296932",
     "status": "completed"
    },
    "tags": []
   },
   "outputs": [
    {
     "data": {
      "text/plain": [
       "Id                0.000000\n",
       "County            9.240543\n",
       "Province_State    5.399942\n",
       "Country_Region    0.000000\n",
       "Population        0.000000\n",
       "Weight            0.000000\n",
       "Date              0.000000\n",
       "Target            0.000000\n",
       "TargetValue       0.000000\n",
       "dtype: float64"
      ]
     },
     "execution_count": 10,
     "metadata": {},
     "output_type": "execute_result"
    }
   ],
   "source": [
    "100*(train.isnull().sum())/(train.shape[0])"
   ]
  },
  {
   "cell_type": "code",
   "execution_count": 11,
   "metadata": {
    "execution": {
     "iopub.execute_input": "2020-10-10T03:35:13.223446Z",
     "iopub.status.busy": "2020-10-10T03:35:13.177843Z",
     "iopub.status.idle": "2020-10-10T03:35:13.227838Z",
     "shell.execute_reply": "2020-10-10T03:35:13.227074Z"
    },
    "papermill": {
     "duration": 0.176272,
     "end_time": "2020-10-10T03:35:13.227964",
     "exception": false,
     "start_time": "2020-10-10T03:35:13.051692",
     "status": "completed"
    },
    "tags": []
   },
   "outputs": [],
   "source": [
    "train.drop(['County','Province_State'],axis=1,inplace=True)"
   ]
  },
  {
   "cell_type": "code",
   "execution_count": 12,
   "metadata": {
    "execution": {
     "iopub.execute_input": "2020-10-10T03:35:13.458322Z",
     "iopub.status.busy": "2020-10-10T03:35:13.452234Z",
     "iopub.status.idle": "2020-10-10T03:35:13.470373Z",
     "shell.execute_reply": "2020-10-10T03:35:13.469578Z"
    },
    "papermill": {
     "duration": 0.134518,
     "end_time": "2020-10-10T03:35:13.470520",
     "exception": false,
     "start_time": "2020-10-10T03:35:13.336002",
     "status": "completed"
    },
    "tags": []
   },
   "outputs": [],
   "source": [
    "test.drop(['County','Province_State'],axis=1,inplace=True)"
   ]
  },
  {
   "cell_type": "markdown",
   "metadata": {
    "papermill": {
     "duration": 0.106836,
     "end_time": "2020-10-10T03:35:13.685006",
     "exception": false,
     "start_time": "2020-10-10T03:35:13.578170",
     "status": "completed"
    },
    "tags": []
   },
   "source": [
    "## 4. Feature Engineering"
   ]
  },
  {
   "cell_type": "code",
   "execution_count": 13,
   "metadata": {
    "execution": {
     "iopub.execute_input": "2020-10-10T03:35:14.244474Z",
     "iopub.status.busy": "2020-10-10T03:35:14.243408Z",
     "iopub.status.idle": "2020-10-10T03:35:14.466778Z",
     "shell.execute_reply": "2020-10-10T03:35:14.467478Z"
    },
    "papermill": {
     "duration": 0.416705,
     "end_time": "2020-10-10T03:35:14.467662",
     "exception": false,
     "start_time": "2020-10-10T03:35:14.050957",
     "status": "completed"
    },
    "tags": []
   },
   "outputs": [],
   "source": [
    "train['Date']=pd.to_datetime(train['Date'])"
   ]
  },
  {
   "cell_type": "code",
   "execution_count": 14,
   "metadata": {
    "execution": {
     "iopub.execute_input": "2020-10-10T03:35:14.687970Z",
     "iopub.status.busy": "2020-10-10T03:35:14.687137Z",
     "iopub.status.idle": "2020-10-10T03:35:21.936866Z",
     "shell.execute_reply": "2020-10-10T03:35:21.936094Z"
    },
    "papermill": {
     "duration": 7.361894,
     "end_time": "2020-10-10T03:35:21.937002",
     "exception": false,
     "start_time": "2020-10-10T03:35:14.575108",
     "status": "completed"
    },
    "tags": []
   },
   "outputs": [],
   "source": [
    "train['Month']=train['Date'].apply(lambda x :x.month)"
   ]
  },
  {
   "cell_type": "code",
   "execution_count": 15,
   "metadata": {
    "execution": {
     "iopub.execute_input": "2020-10-10T03:35:22.181918Z",
     "iopub.status.busy": "2020-10-10T03:35:22.166342Z",
     "iopub.status.idle": "2020-10-10T03:35:29.317513Z",
     "shell.execute_reply": "2020-10-10T03:35:29.316839Z"
    },
    "papermill": {
     "duration": 7.274392,
     "end_time": "2020-10-10T03:35:29.317659",
     "exception": false,
     "start_time": "2020-10-10T03:35:22.043267",
     "status": "completed"
    },
    "tags": []
   },
   "outputs": [],
   "source": [
    "train['Day']=train['Date'].apply(lambda x :x.day)"
   ]
  },
  {
   "cell_type": "code",
   "execution_count": 16,
   "metadata": {
    "execution": {
     "iopub.execute_input": "2020-10-10T03:35:29.538444Z",
     "iopub.status.busy": "2020-10-10T03:35:29.537628Z",
     "iopub.status.idle": "2020-10-10T03:35:29.607478Z",
     "shell.execute_reply": "2020-10-10T03:35:29.606783Z"
    },
    "papermill": {
     "duration": 0.182509,
     "end_time": "2020-10-10T03:35:29.607629",
     "exception": false,
     "start_time": "2020-10-10T03:35:29.425120",
     "status": "completed"
    },
    "tags": []
   },
   "outputs": [],
   "source": [
    "train.drop(['Date'],axis=1,inplace=True)"
   ]
  },
  {
   "cell_type": "code",
   "execution_count": 17,
   "metadata": {
    "execution": {
     "iopub.execute_input": "2020-10-10T03:35:29.836708Z",
     "iopub.status.busy": "2020-10-10T03:35:29.835883Z",
     "iopub.status.idle": "2020-10-10T03:35:29.840970Z",
     "shell.execute_reply": "2020-10-10T03:35:29.840201Z"
    },
    "papermill": {
     "duration": 0.125799,
     "end_time": "2020-10-10T03:35:29.841101",
     "exception": false,
     "start_time": "2020-10-10T03:35:29.715302",
     "status": "completed"
    },
    "tags": []
   },
   "outputs": [
    {
     "data": {
      "text/html": [
       "<div>\n",
       "<style scoped>\n",
       "    .dataframe tbody tr th:only-of-type {\n",
       "        vertical-align: middle;\n",
       "    }\n",
       "\n",
       "    .dataframe tbody tr th {\n",
       "        vertical-align: top;\n",
       "    }\n",
       "\n",
       "    .dataframe thead th {\n",
       "        text-align: right;\n",
       "    }\n",
       "</style>\n",
       "<table border=\"1\" class=\"dataframe\">\n",
       "  <thead>\n",
       "    <tr style=\"text-align: right;\">\n",
       "      <th></th>\n",
       "      <th>Id</th>\n",
       "      <th>Country_Region</th>\n",
       "      <th>Population</th>\n",
       "      <th>Weight</th>\n",
       "      <th>Target</th>\n",
       "      <th>TargetValue</th>\n",
       "      <th>Month</th>\n",
       "      <th>Day</th>\n",
       "    </tr>\n",
       "  </thead>\n",
       "  <tbody>\n",
       "    <tr>\n",
       "      <td>0</td>\n",
       "      <td>1</td>\n",
       "      <td>Afghanistan</td>\n",
       "      <td>27657145</td>\n",
       "      <td>0.058359</td>\n",
       "      <td>ConfirmedCases</td>\n",
       "      <td>0</td>\n",
       "      <td>1</td>\n",
       "      <td>23</td>\n",
       "    </tr>\n",
       "    <tr>\n",
       "      <td>1</td>\n",
       "      <td>2</td>\n",
       "      <td>Afghanistan</td>\n",
       "      <td>27657145</td>\n",
       "      <td>0.583587</td>\n",
       "      <td>Fatalities</td>\n",
       "      <td>0</td>\n",
       "      <td>1</td>\n",
       "      <td>23</td>\n",
       "    </tr>\n",
       "    <tr>\n",
       "      <td>2</td>\n",
       "      <td>3</td>\n",
       "      <td>Afghanistan</td>\n",
       "      <td>27657145</td>\n",
       "      <td>0.058359</td>\n",
       "      <td>ConfirmedCases</td>\n",
       "      <td>0</td>\n",
       "      <td>1</td>\n",
       "      <td>24</td>\n",
       "    </tr>\n",
       "  </tbody>\n",
       "</table>\n",
       "</div>"
      ],
      "text/plain": [
       "   Id Country_Region  Population    Weight          Target  TargetValue  \\\n",
       "0   1    Afghanistan    27657145  0.058359  ConfirmedCases            0   \n",
       "1   2    Afghanistan    27657145  0.583587      Fatalities            0   \n",
       "2   3    Afghanistan    27657145  0.058359  ConfirmedCases            0   \n",
       "\n",
       "   Month  Day  \n",
       "0      1   23  \n",
       "1      1   23  \n",
       "2      1   24  "
      ]
     },
     "execution_count": 17,
     "metadata": {},
     "output_type": "execute_result"
    }
   ],
   "source": [
    "train.head(3)"
   ]
  },
  {
   "cell_type": "code",
   "execution_count": 18,
   "metadata": {
    "execution": {
     "iopub.execute_input": "2020-10-10T03:35:30.088576Z",
     "iopub.status.busy": "2020-10-10T03:35:30.087789Z",
     "iopub.status.idle": "2020-10-10T03:35:30.155060Z",
     "shell.execute_reply": "2020-10-10T03:35:30.155677Z"
    },
    "papermill": {
     "duration": 0.206465,
     "end_time": "2020-10-10T03:35:30.155848",
     "exception": false,
     "start_time": "2020-10-10T03:35:29.949383",
     "status": "completed"
    },
    "tags": []
   },
   "outputs": [],
   "source": [
    "test['Date']=pd.to_datetime(test['Date'])"
   ]
  },
  {
   "cell_type": "code",
   "execution_count": 19,
   "metadata": {
    "execution": {
     "iopub.execute_input": "2020-10-10T03:35:30.384007Z",
     "iopub.status.busy": "2020-10-10T03:35:30.383158Z",
     "iopub.status.idle": "2020-10-10T03:35:32.641838Z",
     "shell.execute_reply": "2020-10-10T03:35:32.641036Z"
    },
    "papermill": {
     "duration": 2.374967,
     "end_time": "2020-10-10T03:35:32.641980",
     "exception": false,
     "start_time": "2020-10-10T03:35:30.267013",
     "status": "completed"
    },
    "tags": []
   },
   "outputs": [],
   "source": [
    "test['Month']=test['Date'].apply(lambda x :x.month)"
   ]
  },
  {
   "cell_type": "code",
   "execution_count": 20,
   "metadata": {
    "execution": {
     "iopub.execute_input": "2020-10-10T03:35:32.904331Z",
     "iopub.status.busy": "2020-10-10T03:35:32.899223Z",
     "iopub.status.idle": "2020-10-10T03:35:35.266051Z",
     "shell.execute_reply": "2020-10-10T03:35:35.265291Z"
    },
    "papermill": {
     "duration": 2.495161,
     "end_time": "2020-10-10T03:35:35.266203",
     "exception": false,
     "start_time": "2020-10-10T03:35:32.771042",
     "status": "completed"
    },
    "tags": []
   },
   "outputs": [],
   "source": [
    "test['Day']=test['Date'].apply(lambda x :x.day)"
   ]
  },
  {
   "cell_type": "code",
   "execution_count": 21,
   "metadata": {
    "execution": {
     "iopub.execute_input": "2020-10-10T03:35:35.489552Z",
     "iopub.status.busy": "2020-10-10T03:35:35.488718Z",
     "iopub.status.idle": "2020-10-10T03:35:35.509955Z",
     "shell.execute_reply": "2020-10-10T03:35:35.509293Z"
    },
    "papermill": {
     "duration": 0.135792,
     "end_time": "2020-10-10T03:35:35.510092",
     "exception": false,
     "start_time": "2020-10-10T03:35:35.374300",
     "status": "completed"
    },
    "tags": []
   },
   "outputs": [],
   "source": [
    "test.drop(['Date'],axis=1,inplace=True)"
   ]
  },
  {
   "cell_type": "code",
   "execution_count": 22,
   "metadata": {
    "execution": {
     "iopub.execute_input": "2020-10-10T03:35:35.741647Z",
     "iopub.status.busy": "2020-10-10T03:35:35.740414Z",
     "iopub.status.idle": "2020-10-10T03:35:35.744598Z",
     "shell.execute_reply": "2020-10-10T03:35:35.745190Z"
    },
    "papermill": {
     "duration": 0.125922,
     "end_time": "2020-10-10T03:35:35.745355",
     "exception": false,
     "start_time": "2020-10-10T03:35:35.619433",
     "status": "completed"
    },
    "tags": []
   },
   "outputs": [
    {
     "data": {
      "text/html": [
       "<div>\n",
       "<style scoped>\n",
       "    .dataframe tbody tr th:only-of-type {\n",
       "        vertical-align: middle;\n",
       "    }\n",
       "\n",
       "    .dataframe tbody tr th {\n",
       "        vertical-align: top;\n",
       "    }\n",
       "\n",
       "    .dataframe thead th {\n",
       "        text-align: right;\n",
       "    }\n",
       "</style>\n",
       "<table border=\"1\" class=\"dataframe\">\n",
       "  <thead>\n",
       "    <tr style=\"text-align: right;\">\n",
       "      <th></th>\n",
       "      <th>ForecastId</th>\n",
       "      <th>Country_Region</th>\n",
       "      <th>Population</th>\n",
       "      <th>Weight</th>\n",
       "      <th>Target</th>\n",
       "      <th>Month</th>\n",
       "      <th>Day</th>\n",
       "    </tr>\n",
       "  </thead>\n",
       "  <tbody>\n",
       "    <tr>\n",
       "      <td>0</td>\n",
       "      <td>1</td>\n",
       "      <td>Afghanistan</td>\n",
       "      <td>27657145</td>\n",
       "      <td>0.058359</td>\n",
       "      <td>ConfirmedCases</td>\n",
       "      <td>4</td>\n",
       "      <td>27</td>\n",
       "    </tr>\n",
       "    <tr>\n",
       "      <td>1</td>\n",
       "      <td>2</td>\n",
       "      <td>Afghanistan</td>\n",
       "      <td>27657145</td>\n",
       "      <td>0.583587</td>\n",
       "      <td>Fatalities</td>\n",
       "      <td>4</td>\n",
       "      <td>27</td>\n",
       "    </tr>\n",
       "    <tr>\n",
       "      <td>2</td>\n",
       "      <td>3</td>\n",
       "      <td>Afghanistan</td>\n",
       "      <td>27657145</td>\n",
       "      <td>0.058359</td>\n",
       "      <td>ConfirmedCases</td>\n",
       "      <td>4</td>\n",
       "      <td>28</td>\n",
       "    </tr>\n",
       "  </tbody>\n",
       "</table>\n",
       "</div>"
      ],
      "text/plain": [
       "   ForecastId Country_Region  Population    Weight          Target  Month  Day\n",
       "0           1    Afghanistan    27657145  0.058359  ConfirmedCases      4   27\n",
       "1           2    Afghanistan    27657145  0.583587      Fatalities      4   27\n",
       "2           3    Afghanistan    27657145  0.058359  ConfirmedCases      4   28"
      ]
     },
     "execution_count": 22,
     "metadata": {},
     "output_type": "execute_result"
    }
   ],
   "source": [
    "test.head(3)"
   ]
  },
  {
   "cell_type": "markdown",
   "metadata": {
    "papermill": {
     "duration": 0.109123,
     "end_time": "2020-10-10T03:35:35.964395",
     "exception": false,
     "start_time": "2020-10-10T03:35:35.855272",
     "status": "completed"
    },
    "tags": []
   },
   "source": [
    "## 5. Exploratory Data Analysis"
   ]
  },
  {
   "cell_type": "markdown",
   "metadata": {
    "papermill": {
     "duration": 0.109159,
     "end_time": "2020-10-10T03:35:36.183730",
     "exception": false,
     "start_time": "2020-10-10T03:35:36.074571",
     "status": "completed"
    },
    "tags": []
   },
   "source": [
    "### 5.1. Analysing Worldwide Cases "
   ]
  },
  {
   "cell_type": "markdown",
   "metadata": {
    "papermill": {
     "duration": 0.109216,
     "end_time": "2020-10-10T03:35:36.403642",
     "exception": false,
     "start_time": "2020-10-10T03:35:36.294426",
     "status": "completed"
    },
    "tags": []
   },
   "source": [
    "#### 5.1.1. Total Share of Worldwide COVID19 Confirmed Cases"
   ]
  },
  {
   "cell_type": "code",
   "execution_count": 23,
   "metadata": {
    "execution": {
     "iopub.execute_input": "2020-10-10T03:35:36.790254Z",
     "iopub.status.busy": "2020-10-10T03:35:36.789385Z",
     "iopub.status.idle": "2020-10-10T03:35:36.834390Z",
     "shell.execute_reply": "2020-10-10T03:35:36.833679Z"
    },
    "papermill": {
     "duration": 0.321707,
     "end_time": "2020-10-10T03:35:36.834616",
     "exception": false,
     "start_time": "2020-10-10T03:35:36.512909",
     "status": "completed"
    },
    "tags": []
   },
   "outputs": [],
   "source": [
    "confirmed=train[train['Target']=='ConfirmedCases']"
   ]
  },
  {
   "cell_type": "code",
   "execution_count": 111,
   "metadata": {
    "execution": {
     "iopub.execute_input": "2020-10-10T03:35:37.062107Z",
     "iopub.status.busy": "2020-10-10T03:35:37.061283Z",
     "iopub.status.idle": "2020-10-10T03:35:47.828836Z",
     "shell.execute_reply": "2020-10-10T03:35:47.829494Z"
    },
    "papermill": {
     "duration": 10.885299,
     "end_time": "2020-10-10T03:35:47.829673",
     "exception": false,
     "start_time": "2020-10-10T03:35:36.944374",
     "status": "completed"
    },
    "tags": []
   },
   "outputs": [
    {
     "data": {
      "image/png": "[encoded data removed]",
      "text/plain": [
       "<IPython.core.display.Image object>"
      ]
     },
     "execution_count": 111,
     "metadata": {},
     "output_type": "execute_result"
    }
   ],
   "source": [
    "fig = px.treemap(confirmed, path=['Country_Region'], values='TargetValue',width=900, height=600)\n",
    "fig.update_traces(textposition='middle center', textfont_size=15)\n",
    "fig.update_layout(\n",
    "    title={\n",
    "        'text': 'Total Share of Worldwide COVID19 Confirmed Cases',\n",
    "        'y':0.92,\n",
    "        'x':0.5,\n",
    "        'xanchor': 'center',\n",
    "        'yanchor': 'top'})\n",
    "Image(pio.to_image(fig,format='png'))"
   ]
  },
  {
   "cell_type": "markdown",
   "metadata": {
    "papermill": {
     "duration": 0.121574,
     "end_time": "2020-10-10T03:35:48.073849",
     "exception": false,
     "start_time": "2020-10-10T03:35:47.952275",
     "status": "completed"
    },
    "tags": []
   },
   "source": [
    "#### 5.1.2. Total Share of Worldwide COVID19 Fatalities"
   ]
  },
  {
   "cell_type": "code",
   "execution_count": 25,
   "metadata": {
    "execution": {
     "iopub.execute_input": "2020-10-10T03:35:48.486573Z",
     "iopub.status.busy": "2020-10-10T03:35:48.485169Z",
     "iopub.status.idle": "2020-10-10T03:35:48.524329Z",
     "shell.execute_reply": "2020-10-10T03:35:48.523645Z"
    },
    "papermill": {
     "duration": 0.329763,
     "end_time": "2020-10-10T03:35:48.524458",
     "exception": false,
     "start_time": "2020-10-10T03:35:48.194695",
     "status": "completed"
    },
    "tags": []
   },
   "outputs": [],
   "source": [
    "dead=train[train['Target']=='Fatalities']"
   ]
  },
  {
   "cell_type": "code",
   "execution_count": 112,
   "metadata": {
    "execution": {
     "iopub.execute_input": "2020-10-10T03:35:48.774041Z",
     "iopub.status.busy": "2020-10-10T03:35:48.773204Z",
     "iopub.status.idle": "2020-10-10T03:35:58.665115Z",
     "shell.execute_reply": "2020-10-10T03:35:58.665763Z"
    },
    "papermill": {
     "duration": 10.021221,
     "end_time": "2020-10-10T03:35:58.665923",
     "exception": false,
     "start_time": "2020-10-10T03:35:48.644702",
     "status": "completed"
    },
    "tags": []
   },
   "outputs": [
    {
     "data": {
      "image/png": "[encoded data removed]",
      "text/plain": [
       "<IPython.core.display.Image object>"
      ]
     },
     "execution_count": 112,
     "metadata": {},
     "output_type": "execute_result"
    }
   ],
   "source": [
    "fig = px.treemap(dead, path=['Country_Region'], values='TargetValue',width=900,height=600)\n",
    "fig.update_traces(textposition='middle center', textfont_size=15)\n",
    "fig.update_layout(\n",
    "    title={\n",
    "        'text': 'Total Share of Worldwide COVID19 Fatalities',\n",
    "        'y':0.92,\n",
    "        'x':0.5,\n",
    "        'xanchor': 'center',\n",
    "        'yanchor': 'top'})\n",
    "Image(pio.to_image(fig,format='png'))"
   ]
  },
  {
   "cell_type": "markdown",
   "metadata": {
    "papermill": {
     "duration": 0.129785,
     "end_time": "2020-10-10T03:35:58.929466",
     "exception": false,
     "start_time": "2020-10-10T03:35:58.799681",
     "status": "completed"
    },
    "tags": []
   },
   "source": [
    "#### 5.1.3. Top 20 Countries in Population"
   ]
  },
  {
   "cell_type": "code",
   "execution_count": 27,
   "metadata": {
    "execution": {
     "iopub.execute_input": "2020-10-10T03:35:59.218316Z",
     "iopub.status.busy": "2020-10-10T03:35:59.217543Z",
     "iopub.status.idle": "2020-10-10T03:35:59.670471Z",
     "shell.execute_reply": "2020-10-10T03:35:59.669658Z"
    },
    "papermill": {
     "duration": 0.610572,
     "end_time": "2020-10-10T03:35:59.670625",
     "exception": false,
     "start_time": "2020-10-10T03:35:59.060053",
     "status": "completed"
    },
    "tags": []
   },
   "outputs": [],
   "source": [
    "pop=train.groupby('Country_Region').max().sort_values(by='Population',ascending=False).head(20)"
   ]
  },
  {
   "cell_type": "code",
   "execution_count": 28,
   "metadata": {
    "execution": {
     "iopub.execute_input": "2020-10-10T03:35:59.974307Z",
     "iopub.status.busy": "2020-10-10T03:35:59.973466Z",
     "iopub.status.idle": "2020-10-10T03:36:00.340260Z",
     "shell.execute_reply": "2020-10-10T03:36:00.339474Z"
    },
    "papermill": {
     "duration": 0.527177,
     "end_time": "2020-10-10T03:36:00.340389",
     "exception": false,
     "start_time": "2020-10-10T03:35:59.813212",
     "status": "completed"
    },
    "tags": []
   },
   "outputs": [
    {
     "data": {
      "image/png": "[encoded data removed]",
      "text/plain": [
       "<Figure size 720x432 with 1 Axes>"
      ]
     },
     "metadata": {
      "needs_background": "light"
     },
     "output_type": "display_data"
    }
   ],
   "source": [
    "plt.figure(figsize=(10,6))\n",
    "sns.barplot(x='Population',y=list(pop.index), data=pop)\n",
    "plt.xlabel('Population',fontsize=12)\n",
    "plt.ylabel('Country',fontsize=12)\n",
    "plt.title('Top 20 Countries in Population',fontsize=20)\n",
    "plt.show()"
   ]
  },
  {
   "cell_type": "markdown",
   "metadata": {
    "papermill": {
     "duration": 0.132888,
     "end_time": "2020-10-10T03:36:00.619534",
     "exception": false,
     "start_time": "2020-10-10T03:36:00.486646",
     "status": "completed"
    },
    "tags": []
   },
   "source": [
    "#### 5.1.4. Top 20 Countries in Confirmed Cases"
   ]
  },
  {
   "cell_type": "code",
   "execution_count": 29,
   "metadata": {
    "execution": {
     "iopub.execute_input": "2020-10-10T03:36:00.898196Z",
     "iopub.status.busy": "2020-10-10T03:36:00.897123Z",
     "iopub.status.idle": "2020-10-10T03:36:01.006380Z",
     "shell.execute_reply": "2020-10-10T03:36:01.005738Z"
    },
    "papermill": {
     "duration": 0.254126,
     "end_time": "2020-10-10T03:36:01.006535",
     "exception": false,
     "start_time": "2020-10-10T03:36:00.752409",
     "status": "completed"
    },
    "tags": []
   },
   "outputs": [],
   "source": [
    "top_confirmed=confirmed.groupby('Country_Region').sum().sort_values(by='TargetValue',ascending=False).head(20)"
   ]
  },
  {
   "cell_type": "code",
   "execution_count": 30,
   "metadata": {
    "execution": {
     "iopub.execute_input": "2020-10-10T03:36:01.281757Z",
     "iopub.status.busy": "2020-10-10T03:36:01.280957Z",
     "iopub.status.idle": "2020-10-10T03:36:01.575133Z",
     "shell.execute_reply": "2020-10-10T03:36:01.574340Z"
    },
    "papermill": {
     "duration": 0.43418,
     "end_time": "2020-10-10T03:36:01.575259",
     "exception": false,
     "start_time": "2020-10-10T03:36:01.141079",
     "status": "completed"
    },
    "tags": []
   },
   "outputs": [
    {
     "data": {
      "image/png": "[encoded data removed]",
      "text/plain": [
       "<Figure size 720x432 with 1 Axes>"
      ]
     },
     "metadata": {
      "needs_background": "light"
     },
     "output_type": "display_data"
    }
   ],
   "source": [
    "plt.figure(figsize=(10,6))\n",
    "sns.barplot(x='TargetValue',y=list(top_confirmed.index), data=top_confirmed)\n",
    "plt.xlabel('Number of Confirmed Cases',fontsize=12)\n",
    "plt.ylabel('Country',fontsize=12)\n",
    "plt.title('Top 20 Countries in the Number of Confirmed Cases',fontsize=20)\n",
    "plt.show()"
   ]
  },
  {
   "cell_type": "markdown",
   "metadata": {
    "papermill": {
     "duration": 0.131897,
     "end_time": "2020-10-10T03:36:01.840055",
     "exception": false,
     "start_time": "2020-10-10T03:36:01.708158",
     "status": "completed"
    },
    "tags": []
   },
   "source": [
    "#### 5.1.5. Top 20 Countries in Fatalities"
   ]
  },
  {
   "cell_type": "code",
   "execution_count": 31,
   "metadata": {
    "execution": {
     "iopub.execute_input": "2020-10-10T03:36:02.123019Z",
     "iopub.status.busy": "2020-10-10T03:36:02.122231Z",
     "iopub.status.idle": "2020-10-10T03:36:02.233386Z",
     "shell.execute_reply": "2020-10-10T03:36:02.234155Z"
    },
    "papermill": {
     "duration": 0.262022,
     "end_time": "2020-10-10T03:36:02.234365",
     "exception": false,
     "start_time": "2020-10-10T03:36:01.972343",
     "status": "completed"
    },
    "tags": []
   },
   "outputs": [],
   "source": [
    "top_dead=dead.groupby('Country_Region').sum().sort_values(by='TargetValue', ascending=False).head(20)"
   ]
  },
  {
   "cell_type": "code",
   "execution_count": 32,
   "metadata": {
    "execution": {
     "iopub.execute_input": "2020-10-10T03:36:02.530897Z",
     "iopub.status.busy": "2020-10-10T03:36:02.528819Z",
     "iopub.status.idle": "2020-10-10T03:36:02.811692Z",
     "shell.execute_reply": "2020-10-10T03:36:02.810893Z"
    },
    "papermill": {
     "duration": 0.443895,
     "end_time": "2020-10-10T03:36:02.811832",
     "exception": false,
     "start_time": "2020-10-10T03:36:02.367937",
     "status": "completed"
    },
    "tags": []
   },
   "outputs": [
    {
     "data": {
      "image/png": "[encoded data removed]",
      "text/plain": [
       "<Figure size 720x432 with 1 Axes>"
      ]
     },
     "metadata": {
      "needs_background": "light"
     },
     "output_type": "display_data"
    }
   ],
   "source": [
    "plt.figure(figsize=(10,6))\n",
    "sns.barplot(x='TargetValue',y=list(top_dead.index), data=top_dead)\n",
    "plt.xlabel('Number of Daed Cases',fontsize=12)\n",
    "plt.ylabel('Country',fontsize=12)\n",
    "plt.title('Top 20 Countries in the Number of Dead Cases',fontsize=20)\n",
    "plt.show()"
   ]
  },
  {
   "cell_type": "markdown",
   "metadata": {
    "papermill": {
     "duration": 0.135406,
     "end_time": "2020-10-10T03:36:03.082310",
     "exception": false,
     "start_time": "2020-10-10T03:36:02.946904",
     "status": "completed"
    },
    "tags": []
   },
   "source": [
    "#### 5.1.6. Fatalities vs Confirmed Cases"
   ]
  },
  {
   "cell_type": "code",
   "execution_count": 33,
   "metadata": {
    "execution": {
     "iopub.execute_input": "2020-10-10T03:36:03.357145Z",
     "iopub.status.busy": "2020-10-10T03:36:03.356148Z",
     "iopub.status.idle": "2020-10-10T03:36:03.362184Z",
     "shell.execute_reply": "2020-10-10T03:36:03.361396Z"
    },
    "papermill": {
     "duration": 0.145677,
     "end_time": "2020-10-10T03:36:03.362318",
     "exception": false,
     "start_time": "2020-10-10T03:36:03.216641",
     "status": "completed"
    },
    "tags": []
   },
   "outputs": [
    {
     "data": {
      "text/plain": [
       "11528819"
      ]
     },
     "execution_count": 33,
     "metadata": {},
     "output_type": "execute_result"
    }
   ],
   "source": [
    "confirmed['TargetValue'].sum()"
   ]
  },
  {
   "cell_type": "code",
   "execution_count": 34,
   "metadata": {
    "execution": {
     "iopub.execute_input": "2020-10-10T03:36:03.638948Z",
     "iopub.status.busy": "2020-10-10T03:36:03.637957Z",
     "iopub.status.idle": "2020-10-10T03:36:03.643818Z",
     "shell.execute_reply": "2020-10-10T03:36:03.643203Z"
    },
    "papermill": {
     "duration": 0.14556,
     "end_time": "2020-10-10T03:36:03.643958",
     "exception": false,
     "start_time": "2020-10-10T03:36:03.498398",
     "status": "completed"
    },
    "tags": []
   },
   "outputs": [
    {
     "data": {
      "text/plain": [
       "653271"
      ]
     },
     "execution_count": 34,
     "metadata": {},
     "output_type": "execute_result"
    }
   ],
   "source": [
    "dead['TargetValue'].sum()"
   ]
  },
  {
   "cell_type": "code",
   "execution_count": 35,
   "metadata": {
    "execution": {
     "iopub.execute_input": "2020-10-10T03:36:03.935175Z",
     "iopub.status.busy": "2020-10-10T03:36:03.927928Z",
     "iopub.status.idle": "2020-10-10T03:36:04.016337Z",
     "shell.execute_reply": "2020-10-10T03:36:04.015688Z"
    },
    "papermill": {
     "duration": 0.233661,
     "end_time": "2020-10-10T03:36:04.016477",
     "exception": false,
     "start_time": "2020-10-10T03:36:03.782816",
     "status": "completed"
    },
    "tags": []
   },
   "outputs": [
    {
     "data": {
      "image/png": "[encoded data removed]",
      "text/plain": [
       "<Figure size 576x576 with 1 Axes>"
      ]
     },
     "metadata": {},
     "output_type": "display_data"
    }
   ],
   "source": [
    "plt.figure(figsize = (8,8))\n",
    "plt.pie(x=[11528819,653271],labels=['Confirmed Cases','Fatalities'], autopct='%1.1f%%',pctdistance=0.7,labeldistance=1.1, explode=(0,0.2),shadow=True,startangle=90,colors= ['teal','paleturquoise'], data=train)\n",
    "plt.title('\\nPercentage Distribution of Fatalities and Confirmed Cases in the World\\n',loc='center',fontsize=15)\n",
    "plt.show()"
   ]
  },
  {
   "cell_type": "code",
   "execution_count": 36,
   "metadata": {
    "execution": {
     "iopub.execute_input": "2020-10-10T03:36:04.300677Z",
     "iopub.status.busy": "2020-10-10T03:36:04.299879Z",
     "iopub.status.idle": "2020-10-10T03:36:04.311231Z",
     "shell.execute_reply": "2020-10-10T03:36:04.311789Z"
    },
    "papermill": {
     "duration": 0.15753,
     "end_time": "2020-10-10T03:36:04.311952",
     "exception": false,
     "start_time": "2020-10-10T03:36:04.154422",
     "status": "completed"
    },
    "scrolled": true,
    "tags": []
   },
   "outputs": [
    {
     "name": "stdout",
     "output_type": "stream",
     "text": [
      "The highest number of confirmed cases in the world is 36163 which was recorded in day 24 of month 4 in US.\n"
     ]
    }
   ],
   "source": [
    "x=confirmed['TargetValue'].max()\n",
    "y=confirmed[confirmed['TargetValue']==confirmed['TargetValue'].max()]['Day'].values[0]\n",
    "z=confirmed[confirmed['TargetValue']==confirmed['TargetValue'].max()]['Month'].values[0]\n",
    "v=confirmed[confirmed['TargetValue']==confirmed['TargetValue'].max()]['Country_Region'].values[0]\n",
    "print(f'The highest number of confirmed cases in the world is {x} which was recorded in day {y} of month {z} in {v}.')"
   ]
  },
  {
   "cell_type": "markdown",
   "metadata": {
    "papermill": {
     "duration": 0.150474,
     "end_time": "2020-10-10T03:36:04.601484",
     "exception": false,
     "start_time": "2020-10-10T03:36:04.451010",
     "status": "completed"
    },
    "tags": []
   },
   "source": [
    "#### 5.1.7. Worldwide Confirmed/Death Cases Over Time"
   ]
  },
  {
   "cell_type": "code",
   "execution_count": 37,
   "metadata": {
    "execution": {
     "iopub.execute_input": "2020-10-10T03:36:04.927099Z",
     "iopub.status.busy": "2020-10-10T03:36:04.926291Z",
     "iopub.status.idle": "2020-10-10T03:36:04.932482Z",
     "shell.execute_reply": "2020-10-10T03:36:04.931657Z"
    },
    "papermill": {
     "duration": 0.170745,
     "end_time": "2020-10-10T03:36:04.932707",
     "exception": false,
     "start_time": "2020-10-10T03:36:04.761962",
     "status": "completed"
    },
    "tags": []
   },
   "outputs": [],
   "source": [
    "confirmed_month_value=confirmed[['TargetValue','Month']]"
   ]
  },
  {
   "cell_type": "code",
   "execution_count": 38,
   "metadata": {
    "execution": {
     "iopub.execute_input": "2020-10-10T03:36:05.227345Z",
     "iopub.status.busy": "2020-10-10T03:36:05.226483Z",
     "iopub.status.idle": "2020-10-10T03:36:05.254815Z",
     "shell.execute_reply": "2020-10-10T03:36:05.254081Z"
    },
    "papermill": {
     "duration": 0.17977,
     "end_time": "2020-10-10T03:36:05.254952",
     "exception": false,
     "start_time": "2020-10-10T03:36:05.075182",
     "status": "completed"
    },
    "tags": []
   },
   "outputs": [],
   "source": [
    "sum_confirmed_month_value=confirmed_month_value.groupby('Month').sum()"
   ]
  },
  {
   "cell_type": "code",
   "execution_count": 39,
   "metadata": {
    "execution": {
     "iopub.execute_input": "2020-10-10T03:36:05.543444Z",
     "iopub.status.busy": "2020-10-10T03:36:05.542698Z",
     "iopub.status.idle": "2020-10-10T03:36:05.546327Z",
     "shell.execute_reply": "2020-10-10T03:36:05.545729Z"
    },
    "papermill": {
     "duration": 0.14759,
     "end_time": "2020-10-10T03:36:05.546458",
     "exception": false,
     "start_time": "2020-10-10T03:36:05.398868",
     "status": "completed"
    },
    "tags": []
   },
   "outputs": [],
   "source": [
    "sum_confirmed_month_value.columns=['Confirmed Cases']"
   ]
  },
  {
   "cell_type": "code",
   "execution_count": 40,
   "metadata": {
    "execution": {
     "iopub.execute_input": "2020-10-10T03:36:05.831525Z",
     "iopub.status.busy": "2020-10-10T03:36:05.830662Z",
     "iopub.status.idle": "2020-10-10T03:36:05.834299Z",
     "shell.execute_reply": "2020-10-10T03:36:05.833714Z"
    },
    "papermill": {
     "duration": 0.149511,
     "end_time": "2020-10-10T03:36:05.834438",
     "exception": false,
     "start_time": "2020-10-10T03:36:05.684927",
     "status": "completed"
    },
    "tags": []
   },
   "outputs": [],
   "source": [
    "dead_month_value=dead[['TargetValue','Month']]"
   ]
  },
  {
   "cell_type": "code",
   "execution_count": 41,
   "metadata": {
    "execution": {
     "iopub.execute_input": "2020-10-10T03:36:06.122598Z",
     "iopub.status.busy": "2020-10-10T03:36:06.121796Z",
     "iopub.status.idle": "2020-10-10T03:36:06.143357Z",
     "shell.execute_reply": "2020-10-10T03:36:06.142678Z"
    },
    "papermill": {
     "duration": 0.169378,
     "end_time": "2020-10-10T03:36:06.143512",
     "exception": false,
     "start_time": "2020-10-10T03:36:05.974134",
     "status": "completed"
    },
    "tags": []
   },
   "outputs": [],
   "source": [
    "sum_dead_month_value=dead_month_value.groupby('Month').sum()"
   ]
  },
  {
   "cell_type": "code",
   "execution_count": 42,
   "metadata": {
    "execution": {
     "iopub.execute_input": "2020-10-10T03:36:06.434188Z",
     "iopub.status.busy": "2020-10-10T03:36:06.433141Z",
     "iopub.status.idle": "2020-10-10T03:36:06.436099Z",
     "shell.execute_reply": "2020-10-10T03:36:06.436661Z"
    },
    "papermill": {
     "duration": 0.149401,
     "end_time": "2020-10-10T03:36:06.436825",
     "exception": false,
     "start_time": "2020-10-10T03:36:06.287424",
     "status": "completed"
    },
    "tags": []
   },
   "outputs": [],
   "source": [
    "sum_dead_month_value.columns=['Dead Cases']"
   ]
  },
  {
   "cell_type": "code",
   "execution_count": 121,
   "metadata": {
    "execution": {
     "iopub.execute_input": "2020-10-10T03:36:06.729989Z",
     "iopub.status.busy": "2020-10-10T03:36:06.729027Z",
     "iopub.status.idle": "2020-10-10T03:36:06.847113Z",
     "shell.execute_reply": "2020-10-10T03:36:06.847716Z"
    },
    "papermill": {
     "duration": 0.271246,
     "end_time": "2020-10-10T03:36:06.847872",
     "exception": false,
     "start_time": "2020-10-10T03:36:06.576626",
     "status": "completed"
    },
    "tags": []
   },
   "outputs": [
    {
     "data": {
      "text/html": [
       "<div>\n",
       "        \n",
       "        \n",
       "            <div id=\"3a6b268d-6804-4e3c-b938-079eafff1c91\" class=\"plotly-graph-div\" style=\"height:525px; width:100%;\"></div>\n",
       "            <script type=\"text/javascript\">\n",
       "                require([\"plotly\"], function(Plotly) {\n",
       "                    window.PLOTLYENV=window.PLOTLYENV || {};\n",
       "                    window.PLOTLYENV.BASE_URL='https://plot.ly';\n",
       "                    \n",
       "                if (document.getElementById(\"3a6b268d-6804-4e3c-b938-079eafff1c91\")) {\n",
       "                    Plotly.newPlot(\n",
       "                        '3a6b268d-6804-4e3c-b938-079eafff1c91',\n",
       "                        [{\"marker\": {\"color\": \"rgba(154, 205, 50, 0.6)\", \"line\": {\"color\": \"rgba(154, 205, 50, 1.0)\", \"width\": 1}}, \"name\": \"Confirmed Cases\", \"orientation\": \"v\", \"text\": \"\", \"type\": \"bar\", \"x\": [1, 2, 3, 4, 5, 6], \"y\": [18639, 145626, 1157538, 4209995, 4383055, 1613966]}, {\"marker\": {\"color\": \"rgba(0, 128, 0, 0.6)\", \"line\": {\"color\": \"rgba(0, 128, 0, 1.0)\", \"width\": 1}}, \"name\": \"Dead Cases\", \"orientation\": \"v\", \"text\": \"\", \"type\": \"bar\", \"x\": [1, 2, 3, 4, 5, 6], \"y\": [392, 5352, 48971, 311938, 224876, 61742]}],\n",
       "                        {\"legend\": {\"bgcolor\": \"#F5F6F9\", \"font\": {\"color\": \"#4D5663\"}}, \"paper_bgcolor\": \"#F5F6F9\", \"plot_bgcolor\": \"#F5F6F9\", \"template\": {\"data\": {\"bar\": [{\"error_x\": {\"color\": \"#2a3f5f\"}, \"error_y\": {\"color\": \"#2a3f5f\"}, \"marker\": {\"line\": {\"color\": \"#E5ECF6\", \"width\": 0.5}}, \"type\": \"bar\"}], \"barpolar\": [{\"marker\": {\"line\": {\"color\": \"#E5ECF6\", \"width\": 0.5}}, \"type\": \"barpolar\"}], \"carpet\": [{\"aaxis\": {\"endlinecolor\": \"#2a3f5f\", \"gridcolor\": \"white\", \"linecolor\": \"white\", \"minorgridcolor\": \"white\", \"startlinecolor\": \"#2a3f5f\"}, \"baxis\": {\"endlinecolor\": \"#2a3f5f\", \"gridcolor\": \"white\", \"linecolor\": \"white\", \"minorgridcolor\": \"white\", \"startlinecolor\": \"#2a3f5f\"}, \"type\": \"carpet\"}], \"choropleth\": [{\"colorbar\": {\"outlinewidth\": 0, \"ticks\": \"\"}, \"type\": \"choropleth\"}], \"contour\": [{\"colorbar\": {\"outlinewidth\": 0, \"ticks\": \"\"}, \"colorscale\": [[0.0, \"#0d0887\"], [0.1111111111111111, \"#46039f\"], [0.2222222222222222, \"#7201a8\"], [0.3333333333333333, \"#9c179e\"], [0.4444444444444444, \"#bd3786\"], [0.5555555555555556, \"#d8576b\"], [0.6666666666666666, \"#ed7953\"], [0.7777777777777778, \"#fb9f3a\"], [0.8888888888888888, \"#fdca26\"], [1.0, \"#f0f921\"]], \"type\": \"contour\"}], \"contourcarpet\": [{\"colorbar\": {\"outlinewidth\": 0, \"ticks\": \"\"}, \"type\": \"contourcarpet\"}], \"heatmap\": [{\"colorbar\": {\"outlinewidth\": 0, \"ticks\": \"\"}, \"colorscale\": [[0.0, \"#0d0887\"], [0.1111111111111111, \"#46039f\"], [0.2222222222222222, \"#7201a8\"], [0.3333333333333333, \"#9c179e\"], [0.4444444444444444, \"#bd3786\"], [0.5555555555555556, \"#d8576b\"], [0.6666666666666666, \"#ed7953\"], [0.7777777777777778, \"#fb9f3a\"], [0.8888888888888888, \"#fdca26\"], [1.0, \"#f0f921\"]], \"type\": \"heatmap\"}], \"heatmapgl\": [{\"colorbar\": {\"outlinewidth\": 0, \"ticks\": \"\"}, \"colorscale\": [[0.0, \"#0d0887\"], [0.1111111111111111, \"#46039f\"], [0.2222222222222222, \"#7201a8\"], [0.3333333333333333, \"#9c179e\"], [0.4444444444444444, \"#bd3786\"], [0.5555555555555556, \"#d8576b\"], [0.6666666666666666, \"#ed7953\"], [0.7777777777777778, \"#fb9f3a\"], [0.8888888888888888, \"#fdca26\"], [1.0, \"#f0f921\"]], \"type\": \"heatmapgl\"}], \"histogram\": [{\"marker\": {\"colorbar\": {\"outlinewidth\": 0, \"ticks\": \"\"}}, \"type\": \"histogram\"}], \"histogram2d\": [{\"colorbar\": {\"outlinewidth\": 0, \"ticks\": \"\"}, \"colorscale\": [[0.0, \"#0d0887\"], [0.1111111111111111, \"#46039f\"], [0.2222222222222222, \"#7201a8\"], [0.3333333333333333, \"#9c179e\"], [0.4444444444444444, \"#bd3786\"], [0.5555555555555556, \"#d8576b\"], [0.6666666666666666, \"#ed7953\"], [0.7777777777777778, \"#fb9f3a\"], [0.8888888888888888, \"#fdca26\"], [1.0, \"#f0f921\"]], \"type\": \"histogram2d\"}], \"histogram2dcontour\": [{\"colorbar\": {\"outlinewidth\": 0, \"ticks\": \"\"}, \"colorscale\": [[0.0, \"#0d0887\"], [0.1111111111111111, \"#46039f\"], [0.2222222222222222, \"#7201a8\"], [0.3333333333333333, \"#9c179e\"], [0.4444444444444444, \"#bd3786\"], [0.5555555555555556, \"#d8576b\"], [0.6666666666666666, \"#ed7953\"], [0.7777777777777778, \"#fb9f3a\"], [0.8888888888888888, \"#fdca26\"], [1.0, \"#f0f921\"]], \"type\": \"histogram2dcontour\"}], \"mesh3d\": [{\"colorbar\": {\"outlinewidth\": 0, \"ticks\": \"\"}, \"type\": \"mesh3d\"}], \"parcoords\": [{\"line\": {\"colorbar\": {\"outlinewidth\": 0, \"ticks\": \"\"}}, \"type\": \"parcoords\"}], \"pie\": [{\"automargin\": true, \"type\": \"pie\"}], \"scatter\": [{\"marker\": {\"colorbar\": {\"outlinewidth\": 0, \"ticks\": \"\"}}, \"type\": \"scatter\"}], \"scatter3d\": [{\"line\": {\"colorbar\": {\"outlinewidth\": 0, \"ticks\": \"\"}}, \"marker\": {\"colorbar\": {\"outlinewidth\": 0, \"ticks\": \"\"}}, \"type\": \"scatter3d\"}], \"scattercarpet\": [{\"marker\": {\"colorbar\": {\"outlinewidth\": 0, \"ticks\": \"\"}}, \"type\": \"scattercarpet\"}], \"scattergeo\": [{\"marker\": {\"colorbar\": {\"outlinewidth\": 0, \"ticks\": \"\"}}, \"type\": \"scattergeo\"}], \"scattergl\": [{\"marker\": {\"colorbar\": {\"outlinewidth\": 0, \"ticks\": \"\"}}, \"type\": \"scattergl\"}], \"scattermapbox\": [{\"marker\": {\"colorbar\": {\"outlinewidth\": 0, \"ticks\": \"\"}}, \"type\": \"scattermapbox\"}], \"scatterpolar\": [{\"marker\": {\"colorbar\": {\"outlinewidth\": 0, \"ticks\": \"\"}}, \"type\": \"scatterpolar\"}], \"scatterpolargl\": [{\"marker\": {\"colorbar\": {\"outlinewidth\": 0, \"ticks\": \"\"}}, \"type\": \"scatterpolargl\"}], \"scatterternary\": [{\"marker\": {\"colorbar\": {\"outlinewidth\": 0, \"ticks\": \"\"}}, \"type\": \"scatterternary\"}], \"surface\": [{\"colorbar\": {\"outlinewidth\": 0, \"ticks\": \"\"}, \"colorscale\": [[0.0, \"#0d0887\"], [0.1111111111111111, \"#46039f\"], [0.2222222222222222, \"#7201a8\"], [0.3333333333333333, \"#9c179e\"], [0.4444444444444444, \"#bd3786\"], [0.5555555555555556, \"#d8576b\"], [0.6666666666666666, \"#ed7953\"], [0.7777777777777778, \"#fb9f3a\"], [0.8888888888888888, \"#fdca26\"], [1.0, \"#f0f921\"]], \"type\": \"surface\"}], \"table\": [{\"cells\": {\"fill\": {\"color\": \"#EBF0F8\"}, \"line\": {\"color\": \"white\"}}, \"header\": {\"fill\": {\"color\": \"#C8D4E3\"}, \"line\": {\"color\": \"white\"}}, \"type\": \"table\"}]}, \"layout\": {\"annotationdefaults\": {\"arrowcolor\": \"#2a3f5f\", \"arrowhead\": 0, \"arrowwidth\": 1}, \"coloraxis\": {\"colorbar\": {\"outlinewidth\": 0, \"ticks\": \"\"}}, \"colorscale\": {\"diverging\": [[0, \"#8e0152\"], [0.1, \"#c51b7d\"], [0.2, \"#de77ae\"], [0.3, \"#f1b6da\"], [0.4, \"#fde0ef\"], [0.5, \"#f7f7f7\"], [0.6, \"#e6f5d0\"], [0.7, \"#b8e186\"], [0.8, \"#7fbc41\"], [0.9, \"#4d9221\"], [1, \"#276419\"]], \"sequential\": [[0.0, \"#0d0887\"], [0.1111111111111111, \"#46039f\"], [0.2222222222222222, \"#7201a8\"], [0.3333333333333333, \"#9c179e\"], [0.4444444444444444, \"#bd3786\"], [0.5555555555555556, \"#d8576b\"], [0.6666666666666666, \"#ed7953\"], [0.7777777777777778, \"#fb9f3a\"], [0.8888888888888888, \"#fdca26\"], [1.0, \"#f0f921\"]], \"sequentialminus\": [[0.0, \"#0d0887\"], [0.1111111111111111, \"#46039f\"], [0.2222222222222222, \"#7201a8\"], [0.3333333333333333, \"#9c179e\"], [0.4444444444444444, \"#bd3786\"], [0.5555555555555556, \"#d8576b\"], [0.6666666666666666, \"#ed7953\"], [0.7777777777777778, \"#fb9f3a\"], [0.8888888888888888, \"#fdca26\"], [1.0, \"#f0f921\"]]}, \"colorway\": [\"#636efa\", \"#EF553B\", \"#00cc96\", \"#ab63fa\", \"#FFA15A\", \"#19d3f3\", \"#FF6692\", \"#B6E880\", \"#FF97FF\", \"#FECB52\"], \"font\": {\"color\": \"#2a3f5f\"}, \"geo\": {\"bgcolor\": \"white\", \"lakecolor\": \"white\", \"landcolor\": \"#E5ECF6\", \"showlakes\": true, \"showland\": true, \"subunitcolor\": \"white\"}, \"hoverlabel\": {\"align\": \"left\"}, \"hovermode\": \"closest\", \"mapbox\": {\"style\": \"light\"}, \"paper_bgcolor\": \"white\", \"plot_bgcolor\": \"#E5ECF6\", \"polar\": {\"angularaxis\": {\"gridcolor\": \"white\", \"linecolor\": \"white\", \"ticks\": \"\"}, \"bgcolor\": \"#E5ECF6\", \"radialaxis\": {\"gridcolor\": \"white\", \"linecolor\": \"white\", \"ticks\": \"\"}}, \"scene\": {\"xaxis\": {\"backgroundcolor\": \"#E5ECF6\", \"gridcolor\": \"white\", \"gridwidth\": 2, \"linecolor\": \"white\", \"showbackground\": true, \"ticks\": \"\", \"zerolinecolor\": \"white\"}, \"yaxis\": {\"backgroundcolor\": \"#E5ECF6\", \"gridcolor\": \"white\", \"gridwidth\": 2, \"linecolor\": \"white\", \"showbackground\": true, \"ticks\": \"\", \"zerolinecolor\": \"white\"}, \"zaxis\": {\"backgroundcolor\": \"#E5ECF6\", \"gridcolor\": \"white\", \"gridwidth\": 2, \"linecolor\": \"white\", \"showbackground\": true, \"ticks\": \"\", \"zerolinecolor\": \"white\"}}, \"shapedefaults\": {\"line\": {\"color\": \"#2a3f5f\"}}, \"ternary\": {\"aaxis\": {\"gridcolor\": \"white\", \"linecolor\": \"white\", \"ticks\": \"\"}, \"baxis\": {\"gridcolor\": \"white\", \"linecolor\": \"white\", \"ticks\": \"\"}, \"bgcolor\": \"#E5ECF6\", \"caxis\": {\"gridcolor\": \"white\", \"linecolor\": \"white\", \"ticks\": \"\"}}, \"title\": {\"x\": 0.05}, \"xaxis\": {\"automargin\": true, \"gridcolor\": \"white\", \"linecolor\": \"white\", \"ticks\": \"\", \"title\": {\"standoff\": 15}, \"zerolinecolor\": \"white\", \"zerolinewidth\": 2}, \"yaxis\": {\"automargin\": true, \"gridcolor\": \"white\", \"linecolor\": \"white\", \"ticks\": \"\", \"title\": {\"standoff\": 15}, \"zerolinecolor\": \"white\", \"zerolinewidth\": 2}}}, \"title\": {\"font\": {\"color\": \"#4D5663\"}, \"text\": \"Worldwide Confirmed/Death Cases Over Time\"}, \"xaxis\": {\"gridcolor\": \"#E1E5ED\", \"showgrid\": true, \"tickfont\": {\"color\": \"#4D5663\"}, \"title\": {\"font\": {\"color\": \"#4D5663\"}, \"text\": \"\"}, \"zerolinecolor\": \"#E1E5ED\"}, \"yaxis\": {\"gridcolor\": \"#E1E5ED\", \"showgrid\": true, \"tickfont\": {\"color\": \"#4D5663\"}, \"title\": {\"font\": {\"color\": \"#4D5663\"}, \"text\": \"\"}, \"zerolinecolor\": \"#E1E5ED\"}},\n",
       "                        {\"showLink\": true, \"linkText\": \"Export to plot.ly\", \"plotlyServerURL\": \"https://plot.ly\", \"responsive\": true}\n",
       "                    ).then(function(){\n",
       "                            \n",
       "var gd = document.getElementById('3a6b268d-6804-4e3c-b938-079eafff1c91');\n",
       "var x = new MutationObserver(function (mutations, observer) {{\n",
       "        var display = window.getComputedStyle(gd).display;\n",
       "        if (!display || display === 'none') {{\n",
       "            console.log([gd, 'removed!']);\n",
       "            Plotly.purge(gd);\n",
       "            observer.disconnect();\n",
       "        }}\n",
       "}});\n",
       "\n",
       "// Listen for the removal of the full notebook cells\n",
       "var notebookContainer = gd.closest('#notebook-container');\n",
       "if (notebookContainer) {{\n",
       "    x.observe(notebookContainer, {childList: true});\n",
       "}}\n",
       "\n",
       "// Listen for the clearing of the current output cell\n",
       "var outputEl = gd.closest('.output');\n",
       "if (outputEl) {{\n",
       "    x.observe(outputEl, {childList: true});\n",
       "}}\n",
       "\n",
       "                        })\n",
       "                };\n",
       "                });\n",
       "            </script>\n",
       "        </div>"
      ]
     },
     "metadata": {},
     "output_type": "display_data"
    },
    {
     "ename": "AttributeError",
     "evalue": "'NoneType' object has no attribute 'show'",
     "output_type": "error",
     "traceback": [
      "\u001b[1;31m---------------------------------------------------------------------------\u001b[0m",
      "\u001b[1;31mAttributeError\u001b[0m                            Traceback (most recent call last)",
      "\u001b[1;32m<ipython-input-121-710efb982b14>\u001b[0m in \u001b[0;36m<module>\u001b[1;34m\u001b[0m\n\u001b[0;32m      1\u001b[0m \u001b[0mfig\u001b[0m\u001b[1;33m=\u001b[0m\u001b[0mpd\u001b[0m\u001b[1;33m.\u001b[0m\u001b[0mmerge\u001b[0m\u001b[1;33m(\u001b[0m\u001b[0msum_confirmed_month_value\u001b[0m\u001b[1;33m,\u001b[0m\u001b[0msum_dead_month_value\u001b[0m\u001b[1;33m,\u001b[0m \u001b[0mon\u001b[0m\u001b[1;33m=\u001b[0m\u001b[1;34m'Month'\u001b[0m\u001b[1;33m)\u001b[0m\u001b[1;33m.\u001b[0m\u001b[0miplot\u001b[0m\u001b[1;33m(\u001b[0m\u001b[0mkind\u001b[0m\u001b[1;33m=\u001b[0m\u001b[1;34m'bar'\u001b[0m\u001b[1;33m,\u001b[0m\u001b[0mcolor\u001b[0m\u001b[1;33m=\u001b[0m\u001b[1;33m[\u001b[0m\u001b[1;34m'yellowgreen'\u001b[0m\u001b[1;33m,\u001b[0m\u001b[1;34m'green'\u001b[0m\u001b[1;33m]\u001b[0m\u001b[1;33m,\u001b[0m \u001b[0mtitle\u001b[0m\u001b[1;33m=\u001b[0m\u001b[1;34m'Worldwide Confirmed/Death Cases Over Time'\u001b[0m\u001b[1;33m)\u001b[0m\u001b[1;33m\u001b[0m\u001b[1;33m\u001b[0m\u001b[0m\n\u001b[1;32m----> 2\u001b[1;33m \u001b[0mfig\u001b[0m\u001b[1;33m.\u001b[0m\u001b[0mshow\u001b[0m\u001b[1;33m(\u001b[0m\u001b[1;33m)\u001b[0m\u001b[1;33m\u001b[0m\u001b[1;33m\u001b[0m\u001b[0m\n\u001b[0m\u001b[0;32m      3\u001b[0m \u001b[1;33m\u001b[0m\u001b[0m\n\u001b[0;32m      4\u001b[0m \u001b[1;33m\u001b[0m\u001b[0m\n",
      "\u001b[1;31mAttributeError\u001b[0m: 'NoneType' object has no attribute 'show'"
     ]
    }
   ],
   "source": [
    "fig=pd.merge(sum_confirmed_month_value,sum_dead_month_value, on='Month').iplot(kind='bar',color=['yellowgreen','green'], title='Worldwide Confirmed/Death Cases Over Time')"
   ]
  },
  {
   "cell_type": "code",
   "execution_count": 120,
   "metadata": {},
   "outputs": [
    {
     "ename": "ImportError",
     "evalue": "cannot import name '_plot_html' from 'plotly.offline.offline' (C:\\Users\\Soha\\Anaconda3\\lib\\site-packages\\plotly\\offline\\offline.py)",
     "output_type": "error",
     "traceback": [
      "\u001b[1;31m---------------------------------------------------------------------------\u001b[0m",
      "\u001b[1;31mImportError\u001b[0m                               Traceback (most recent call last)",
      "\u001b[1;32m<ipython-input-120-e6a785a38bca>\u001b[0m in \u001b[0;36m<module>\u001b[1;34m\u001b[0m\n\u001b[1;32m----> 1\u001b[1;33m \u001b[1;32mfrom\u001b[0m \u001b[0mplotly\u001b[0m\u001b[1;33m.\u001b[0m\u001b[0moffline\u001b[0m\u001b[1;33m.\u001b[0m\u001b[0moffline\u001b[0m \u001b[1;32mimport\u001b[0m \u001b[0m_plot_html\u001b[0m\u001b[1;33m\u001b[0m\u001b[1;33m\u001b[0m\u001b[0m\n\u001b[0m",
      "\u001b[1;31mImportError\u001b[0m: cannot import name '_plot_html' from 'plotly.offline.offline' (C:\\Users\\Soha\\Anaconda3\\lib\\site-packages\\plotly\\offline\\offline.py)"
     ]
    }
   ],
   "source": [
    "from plotly.offline.offline import _plot_html"
   ]
  },
  {
   "cell_type": "markdown",
   "metadata": {
    "papermill": {
     "duration": 0.147667,
     "end_time": "2020-10-10T03:36:07.144027",
     "exception": false,
     "start_time": "2020-10-10T03:36:06.996360",
     "status": "completed"
    },
    "tags": []
   },
   "source": [
    "### 5.2. Analysing Cases in India"
   ]
  },
  {
   "cell_type": "code",
   "execution_count": 44,
   "metadata": {
    "execution": {
     "iopub.execute_input": "2020-10-10T03:36:07.602635Z",
     "iopub.status.busy": "2020-10-10T03:36:07.601603Z",
     "iopub.status.idle": "2020-10-10T03:36:07.606700Z",
     "shell.execute_reply": "2020-10-10T03:36:07.605916Z"
    },
    "papermill": {
     "duration": 0.313926,
     "end_time": "2020-10-10T03:36:07.606844",
     "exception": false,
     "start_time": "2020-10-10T03:36:07.292918",
     "status": "completed"
    },
    "tags": []
   },
   "outputs": [],
   "source": [
    "india=train[train['Country_Region']=='India']"
   ]
  },
  {
   "cell_type": "code",
   "execution_count": 45,
   "metadata": {
    "execution": {
     "iopub.execute_input": "2020-10-10T03:36:07.909973Z",
     "iopub.status.busy": "2020-10-10T03:36:07.908857Z",
     "iopub.status.idle": "2020-10-10T03:36:07.913045Z",
     "shell.execute_reply": "2020-10-10T03:36:07.913596Z"
    },
    "papermill": {
     "duration": 0.158892,
     "end_time": "2020-10-10T03:36:07.913797",
     "exception": false,
     "start_time": "2020-10-10T03:36:07.754905",
     "status": "completed"
    },
    "tags": []
   },
   "outputs": [
    {
     "data": {
      "text/plain": [
       "(280, 8)"
      ]
     },
     "execution_count": 45,
     "metadata": {},
     "output_type": "execute_result"
    }
   ],
   "source": [
    "india.shape"
   ]
  },
  {
   "cell_type": "code",
   "execution_count": 46,
   "metadata": {
    "execution": {
     "iopub.execute_input": "2020-10-10T03:36:08.225324Z",
     "iopub.status.busy": "2020-10-10T03:36:08.220066Z",
     "iopub.status.idle": "2020-10-10T03:36:08.230044Z",
     "shell.execute_reply": "2020-10-10T03:36:08.229392Z"
    },
    "papermill": {
     "duration": 0.166843,
     "end_time": "2020-10-10T03:36:08.230178",
     "exception": false,
     "start_time": "2020-10-10T03:36:08.063335",
     "status": "completed"
    },
    "tags": []
   },
   "outputs": [
    {
     "data": {
      "text/html": [
       "<div>\n",
       "<style scoped>\n",
       "    .dataframe tbody tr th:only-of-type {\n",
       "        vertical-align: middle;\n",
       "    }\n",
       "\n",
       "    .dataframe tbody tr th {\n",
       "        vertical-align: top;\n",
       "    }\n",
       "\n",
       "    .dataframe thead th {\n",
       "        text-align: right;\n",
       "    }\n",
       "</style>\n",
       "<table border=\"1\" class=\"dataframe\">\n",
       "  <thead>\n",
       "    <tr style=\"text-align: right;\">\n",
       "      <th></th>\n",
       "      <th>Id</th>\n",
       "      <th>Country_Region</th>\n",
       "      <th>Population</th>\n",
       "      <th>Weight</th>\n",
       "      <th>Target</th>\n",
       "      <th>TargetValue</th>\n",
       "      <th>Month</th>\n",
       "      <th>Day</th>\n",
       "    </tr>\n",
       "  </thead>\n",
       "  <tbody>\n",
       "    <tr>\n",
       "      <td>40320</td>\n",
       "      <td>40321</td>\n",
       "      <td>India</td>\n",
       "      <td>1295210000</td>\n",
       "      <td>0.04766</td>\n",
       "      <td>ConfirmedCases</td>\n",
       "      <td>0</td>\n",
       "      <td>1</td>\n",
       "      <td>23</td>\n",
       "    </tr>\n",
       "    <tr>\n",
       "      <td>40321</td>\n",
       "      <td>40322</td>\n",
       "      <td>India</td>\n",
       "      <td>1295210000</td>\n",
       "      <td>0.47660</td>\n",
       "      <td>Fatalities</td>\n",
       "      <td>0</td>\n",
       "      <td>1</td>\n",
       "      <td>23</td>\n",
       "    </tr>\n",
       "    <tr>\n",
       "      <td>40322</td>\n",
       "      <td>40323</td>\n",
       "      <td>India</td>\n",
       "      <td>1295210000</td>\n",
       "      <td>0.04766</td>\n",
       "      <td>ConfirmedCases</td>\n",
       "      <td>0</td>\n",
       "      <td>1</td>\n",
       "      <td>24</td>\n",
       "    </tr>\n",
       "  </tbody>\n",
       "</table>\n",
       "</div>"
      ],
      "text/plain": [
       "          Id Country_Region  Population   Weight          Target  TargetValue  \\\n",
       "40320  40321          India  1295210000  0.04766  ConfirmedCases            0   \n",
       "40321  40322          India  1295210000  0.47660      Fatalities            0   \n",
       "40322  40323          India  1295210000  0.04766  ConfirmedCases            0   \n",
       "\n",
       "       Month  Day  \n",
       "40320      1   23  \n",
       "40321      1   23  \n",
       "40322      1   24  "
      ]
     },
     "execution_count": 46,
     "metadata": {},
     "output_type": "execute_result"
    }
   ],
   "source": [
    "india.head(3)"
   ]
  },
  {
   "cell_type": "code",
   "execution_count": 47,
   "metadata": {
    "execution": {
     "iopub.execute_input": "2020-10-10T03:36:08.541781Z",
     "iopub.status.busy": "2020-10-10T03:36:08.540778Z",
     "iopub.status.idle": "2020-10-10T03:36:08.545369Z",
     "shell.execute_reply": "2020-10-10T03:36:08.544734Z"
    },
    "papermill": {
     "duration": 0.165606,
     "end_time": "2020-10-10T03:36:08.545524",
     "exception": false,
     "start_time": "2020-10-10T03:36:08.379918",
     "status": "completed"
    },
    "tags": []
   },
   "outputs": [
    {
     "name": "stdout",
     "output_type": "stream",
     "text": [
      "<class 'pandas.core.frame.DataFrame'>\n",
      "Int64Index: 280 entries, 40320 to 40599\n",
      "Data columns (total 8 columns):\n",
      "Id                280 non-null int64\n",
      "Country_Region    280 non-null object\n",
      "Population        280 non-null int64\n",
      "Weight            280 non-null float64\n",
      "Target            280 non-null object\n",
      "TargetValue       280 non-null int64\n",
      "Month             280 non-null int64\n",
      "Day               280 non-null int64\n",
      "dtypes: float64(1), int64(5), object(2)\n",
      "memory usage: 19.7+ KB\n"
     ]
    }
   ],
   "source": [
    "india.info()"
   ]
  },
  {
   "cell_type": "markdown",
   "metadata": {
    "papermill": {
     "duration": 0.15319,
     "end_time": "2020-10-10T03:36:08.849914",
     "exception": false,
     "start_time": "2020-10-10T03:36:08.696724",
     "status": "completed"
    },
    "tags": []
   },
   "source": [
    "#### 5.2.1. Confirmed Cases in India"
   ]
  },
  {
   "cell_type": "code",
   "execution_count": 48,
   "metadata": {
    "execution": {
     "iopub.execute_input": "2020-10-10T03:36:09.160099Z",
     "iopub.status.busy": "2020-10-10T03:36:09.159241Z",
     "iopub.status.idle": "2020-10-10T03:36:09.163199Z",
     "shell.execute_reply": "2020-10-10T03:36:09.162574Z"
    },
    "papermill": {
     "duration": 0.163336,
     "end_time": "2020-10-10T03:36:09.163326",
     "exception": false,
     "start_time": "2020-10-10T03:36:08.999990",
     "status": "completed"
    },
    "tags": []
   },
   "outputs": [],
   "source": [
    "conf_ind=india[india['Target']=='ConfirmedCases']"
   ]
  },
  {
   "cell_type": "code",
   "execution_count": 49,
   "metadata": {
    "execution": {
     "iopub.execute_input": "2020-10-10T03:36:09.773738Z",
     "iopub.status.busy": "2020-10-10T03:36:09.772989Z",
     "iopub.status.idle": "2020-10-10T03:36:09.778383Z",
     "shell.execute_reply": "2020-10-10T03:36:09.777618Z"
    },
    "papermill": {
     "duration": 0.16288,
     "end_time": "2020-10-10T03:36:09.778567",
     "exception": false,
     "start_time": "2020-10-10T03:36:09.615687",
     "status": "completed"
    },
    "tags": []
   },
   "outputs": [],
   "source": [
    "conf_ind.reset_index(inplace=True)"
   ]
  },
  {
   "cell_type": "code",
   "execution_count": 50,
   "metadata": {
    "execution": {
     "iopub.execute_input": "2020-10-10T03:36:10.091215Z",
     "iopub.status.busy": "2020-10-10T03:36:10.090424Z",
     "iopub.status.idle": "2020-10-10T03:36:10.094098Z",
     "shell.execute_reply": "2020-10-10T03:36:10.093418Z"
    },
    "papermill": {
     "duration": 0.1651,
     "end_time": "2020-10-10T03:36:10.094279",
     "exception": false,
     "start_time": "2020-10-10T03:36:09.929179",
     "status": "completed"
    },
    "tags": []
   },
   "outputs": [],
   "source": [
    "conf_ind.drop(['index'],axis=1,inplace=True)"
   ]
  },
  {
   "cell_type": "code",
   "execution_count": 51,
   "metadata": {
    "execution": {
     "iopub.execute_input": "2020-10-10T03:36:10.413236Z",
     "iopub.status.busy": "2020-10-10T03:36:10.412261Z",
     "iopub.status.idle": "2020-10-10T03:36:10.417312Z",
     "shell.execute_reply": "2020-10-10T03:36:10.416669Z"
    },
    "papermill": {
     "duration": 0.17117,
     "end_time": "2020-10-10T03:36:10.417450",
     "exception": false,
     "start_time": "2020-10-10T03:36:10.246280",
     "status": "completed"
    },
    "tags": []
   },
   "outputs": [
    {
     "data": {
      "text/html": [
       "<div>\n",
       "<style scoped>\n",
       "    .dataframe tbody tr th:only-of-type {\n",
       "        vertical-align: middle;\n",
       "    }\n",
       "\n",
       "    .dataframe tbody tr th {\n",
       "        vertical-align: top;\n",
       "    }\n",
       "\n",
       "    .dataframe thead th {\n",
       "        text-align: right;\n",
       "    }\n",
       "</style>\n",
       "<table border=\"1\" class=\"dataframe\">\n",
       "  <thead>\n",
       "    <tr style=\"text-align: right;\">\n",
       "      <th></th>\n",
       "      <th>Id</th>\n",
       "      <th>Country_Region</th>\n",
       "      <th>Population</th>\n",
       "      <th>Weight</th>\n",
       "      <th>Target</th>\n",
       "      <th>TargetValue</th>\n",
       "      <th>Month</th>\n",
       "      <th>Day</th>\n",
       "    </tr>\n",
       "  </thead>\n",
       "  <tbody>\n",
       "    <tr>\n",
       "      <td>0</td>\n",
       "      <td>40321</td>\n",
       "      <td>India</td>\n",
       "      <td>1295210000</td>\n",
       "      <td>0.04766</td>\n",
       "      <td>ConfirmedCases</td>\n",
       "      <td>0</td>\n",
       "      <td>1</td>\n",
       "      <td>23</td>\n",
       "    </tr>\n",
       "    <tr>\n",
       "      <td>1</td>\n",
       "      <td>40323</td>\n",
       "      <td>India</td>\n",
       "      <td>1295210000</td>\n",
       "      <td>0.04766</td>\n",
       "      <td>ConfirmedCases</td>\n",
       "      <td>0</td>\n",
       "      <td>1</td>\n",
       "      <td>24</td>\n",
       "    </tr>\n",
       "  </tbody>\n",
       "</table>\n",
       "</div>"
      ],
      "text/plain": [
       "      Id Country_Region  Population   Weight          Target  TargetValue  \\\n",
       "0  40321          India  1295210000  0.04766  ConfirmedCases            0   \n",
       "1  40323          India  1295210000  0.04766  ConfirmedCases            0   \n",
       "\n",
       "   Month  Day  \n",
       "0      1   23  \n",
       "1      1   24  "
      ]
     },
     "execution_count": 51,
     "metadata": {},
     "output_type": "execute_result"
    }
   ],
   "source": [
    "conf_ind.head(2)"
   ]
  },
  {
   "cell_type": "code",
   "execution_count": 52,
   "metadata": {
    "execution": {
     "iopub.execute_input": "2020-10-10T03:36:11.066140Z",
     "iopub.status.busy": "2020-10-10T03:36:11.065078Z",
     "iopub.status.idle": "2020-10-10T03:36:11.069955Z",
     "shell.execute_reply": "2020-10-10T03:36:11.069071Z"
    },
    "papermill": {
     "duration": 0.166456,
     "end_time": "2020-10-10T03:36:11.070140",
     "exception": false,
     "start_time": "2020-10-10T03:36:10.903684",
     "status": "completed"
    },
    "tags": []
   },
   "outputs": [
    {
     "name": "stdout",
     "output_type": "stream",
     "text": [
      "The highest number of confirmed cases in India is 10864 which was recorded in day 7 of month 6.\n"
     ]
    }
   ],
   "source": [
    "x=conf_ind['TargetValue'].max()\n",
    "y=conf_ind[conf_ind['TargetValue']==conf_ind['TargetValue'].max()]['Day'].values[0]\n",
    "z=conf_ind[conf_ind['TargetValue']==conf_ind['TargetValue'].max()]['Month'].values[0]\n",
    "print(f'The highest number of confirmed cases in India is {x} which was recorded in day {y} of month {z}.')"
   ]
  },
  {
   "cell_type": "markdown",
   "metadata": {
    "papermill": {
     "duration": 0.152227,
     "end_time": "2020-10-10T03:36:11.376605",
     "exception": false,
     "start_time": "2020-10-10T03:36:11.224378",
     "status": "completed"
    },
    "tags": []
   },
   "source": [
    "#### 5.2.2. Dead cases in India"
   ]
  },
  {
   "cell_type": "code",
   "execution_count": 53,
   "metadata": {
    "execution": {
     "iopub.execute_input": "2020-10-10T03:36:11.735977Z",
     "iopub.status.busy": "2020-10-10T03:36:11.734832Z",
     "iopub.status.idle": "2020-10-10T03:36:11.738538Z",
     "shell.execute_reply": "2020-10-10T03:36:11.737743Z"
    },
    "papermill": {
     "duration": 0.207046,
     "end_time": "2020-10-10T03:36:11.738665",
     "exception": false,
     "start_time": "2020-10-10T03:36:11.531619",
     "status": "completed"
    },
    "tags": []
   },
   "outputs": [],
   "source": [
    "dd_ind=india[india['Target']=='Fatalities']"
   ]
  },
  {
   "cell_type": "code",
   "execution_count": 54,
   "metadata": {
    "execution": {
     "iopub.execute_input": "2020-10-10T03:36:12.359547Z",
     "iopub.status.busy": "2020-10-10T03:36:12.358770Z",
     "iopub.status.idle": "2020-10-10T03:36:12.362171Z",
     "shell.execute_reply": "2020-10-10T03:36:12.361477Z"
    },
    "papermill": {
     "duration": 0.162713,
     "end_time": "2020-10-10T03:36:12.362307",
     "exception": false,
     "start_time": "2020-10-10T03:36:12.199594",
     "status": "completed"
    },
    "tags": []
   },
   "outputs": [],
   "source": [
    "dd_ind.reset_index(inplace=True)"
   ]
  },
  {
   "cell_type": "code",
   "execution_count": 55,
   "metadata": {
    "execution": {
     "iopub.execute_input": "2020-10-10T03:36:12.680177Z",
     "iopub.status.busy": "2020-10-10T03:36:12.679068Z",
     "iopub.status.idle": "2020-10-10T03:36:12.682599Z",
     "shell.execute_reply": "2020-10-10T03:36:12.681904Z"
    },
    "papermill": {
     "duration": 0.16502,
     "end_time": "2020-10-10T03:36:12.682739",
     "exception": false,
     "start_time": "2020-10-10T03:36:12.517719",
     "status": "completed"
    },
    "tags": []
   },
   "outputs": [],
   "source": [
    "dd_ind.drop(['index'],axis=1,inplace=True)"
   ]
  },
  {
   "cell_type": "code",
   "execution_count": 56,
   "metadata": {
    "execution": {
     "iopub.execute_input": "2020-10-10T03:36:13.007520Z",
     "iopub.status.busy": "2020-10-10T03:36:13.006312Z",
     "iopub.status.idle": "2020-10-10T03:36:13.011430Z",
     "shell.execute_reply": "2020-10-10T03:36:13.010817Z"
    },
    "papermill": {
     "duration": 0.172162,
     "end_time": "2020-10-10T03:36:13.011590",
     "exception": false,
     "start_time": "2020-10-10T03:36:12.839428",
     "status": "completed"
    },
    "tags": []
   },
   "outputs": [
    {
     "data": {
      "text/html": [
       "<div>\n",
       "<style scoped>\n",
       "    .dataframe tbody tr th:only-of-type {\n",
       "        vertical-align: middle;\n",
       "    }\n",
       "\n",
       "    .dataframe tbody tr th {\n",
       "        vertical-align: top;\n",
       "    }\n",
       "\n",
       "    .dataframe thead th {\n",
       "        text-align: right;\n",
       "    }\n",
       "</style>\n",
       "<table border=\"1\" class=\"dataframe\">\n",
       "  <thead>\n",
       "    <tr style=\"text-align: right;\">\n",
       "      <th></th>\n",
       "      <th>Id</th>\n",
       "      <th>Country_Region</th>\n",
       "      <th>Population</th>\n",
       "      <th>Weight</th>\n",
       "      <th>Target</th>\n",
       "      <th>TargetValue</th>\n",
       "      <th>Month</th>\n",
       "      <th>Day</th>\n",
       "    </tr>\n",
       "  </thead>\n",
       "  <tbody>\n",
       "    <tr>\n",
       "      <td>0</td>\n",
       "      <td>40322</td>\n",
       "      <td>India</td>\n",
       "      <td>1295210000</td>\n",
       "      <td>0.4766</td>\n",
       "      <td>Fatalities</td>\n",
       "      <td>0</td>\n",
       "      <td>1</td>\n",
       "      <td>23</td>\n",
       "    </tr>\n",
       "    <tr>\n",
       "      <td>1</td>\n",
       "      <td>40324</td>\n",
       "      <td>India</td>\n",
       "      <td>1295210000</td>\n",
       "      <td>0.4766</td>\n",
       "      <td>Fatalities</td>\n",
       "      <td>0</td>\n",
       "      <td>1</td>\n",
       "      <td>24</td>\n",
       "    </tr>\n",
       "  </tbody>\n",
       "</table>\n",
       "</div>"
      ],
      "text/plain": [
       "      Id Country_Region  Population  Weight      Target  TargetValue  Month  \\\n",
       "0  40322          India  1295210000  0.4766  Fatalities            0      1   \n",
       "1  40324          India  1295210000  0.4766  Fatalities            0      1   \n",
       "\n",
       "   Day  \n",
       "0   23  \n",
       "1   24  "
      ]
     },
     "execution_count": 56,
     "metadata": {},
     "output_type": "execute_result"
    }
   ],
   "source": [
    "dd_ind.head(2)"
   ]
  },
  {
   "cell_type": "code",
   "execution_count": 57,
   "metadata": {
    "execution": {
     "iopub.execute_input": "2020-10-10T03:36:13.640838Z",
     "iopub.status.busy": "2020-10-10T03:36:13.640024Z",
     "iopub.status.idle": "2020-10-10T03:36:13.644198Z",
     "shell.execute_reply": "2020-10-10T03:36:13.643448Z"
    },
    "papermill": {
     "duration": 0.168194,
     "end_time": "2020-10-10T03:36:13.644329",
     "exception": false,
     "start_time": "2020-10-10T03:36:13.476135",
     "status": "completed"
    },
    "tags": []
   },
   "outputs": [
    {
     "name": "stdout",
     "output_type": "stream",
     "text": [
      "The highest number of confirmed cases in India is 297 which was recorded in day 6 of month 6.\n"
     ]
    }
   ],
   "source": [
    "x=dd_ind['TargetValue'].max()\n",
    "y=dd_ind[dd_ind['TargetValue']==dd_ind['TargetValue'].max()]['Day'].values[0]\n",
    "z=dd_ind[dd_ind['TargetValue']==dd_ind['TargetValue'].max()]['Month'].values[0]\n",
    "print(f'The highest number of confirmed cases in India is {x} which was recorded in day {y} of month {z}.')"
   ]
  },
  {
   "cell_type": "markdown",
   "metadata": {
    "papermill": {
     "duration": 0.155665,
     "end_time": "2020-10-10T03:36:13.955568",
     "exception": false,
     "start_time": "2020-10-10T03:36:13.799903",
     "status": "completed"
    },
    "tags": []
   },
   "source": [
    "#### 5.2.3. Monthly Number of Confirmed and Dead Cases"
   ]
  },
  {
   "cell_type": "code",
   "execution_count": 58,
   "metadata": {
    "execution": {
     "iopub.execute_input": "2020-10-10T03:36:14.274431Z",
     "iopub.status.busy": "2020-10-10T03:36:14.273326Z",
     "iopub.status.idle": "2020-10-10T03:36:14.278027Z",
     "shell.execute_reply": "2020-10-10T03:36:14.277260Z"
    },
    "papermill": {
     "duration": 0.168069,
     "end_time": "2020-10-10T03:36:14.278157",
     "exception": false,
     "start_time": "2020-10-10T03:36:14.110088",
     "status": "completed"
    },
    "tags": []
   },
   "outputs": [],
   "source": [
    "mon_conf_ind=conf_ind.groupby('Month').sum()"
   ]
  },
  {
   "cell_type": "code",
   "execution_count": 59,
   "metadata": {
    "execution": {
     "iopub.execute_input": "2020-10-10T03:36:14.597547Z",
     "iopub.status.busy": "2020-10-10T03:36:14.596447Z",
     "iopub.status.idle": "2020-10-10T03:36:14.599134Z",
     "shell.execute_reply": "2020-10-10T03:36:14.599688Z"
    },
    "papermill": {
     "duration": 0.165957,
     "end_time": "2020-10-10T03:36:14.599861",
     "exception": false,
     "start_time": "2020-10-10T03:36:14.433904",
     "status": "completed"
    },
    "tags": []
   },
   "outputs": [],
   "source": [
    "mon_dd_ind=dd_ind.groupby('Month').sum()"
   ]
  },
  {
   "cell_type": "code",
   "execution_count": 60,
   "metadata": {
    "execution": {
     "iopub.execute_input": "2020-10-10T03:36:14.928856Z",
     "iopub.status.busy": "2020-10-10T03:36:14.921301Z",
     "iopub.status.idle": "2020-10-10T03:36:15.295863Z",
     "shell.execute_reply": "2020-10-10T03:36:15.295211Z"
    },
    "papermill": {
     "duration": 0.541475,
     "end_time": "2020-10-10T03:36:15.296000",
     "exception": false,
     "start_time": "2020-10-10T03:36:14.754525",
     "status": "completed"
    },
    "scrolled": false,
    "tags": []
   },
   "outputs": [
    {
     "data": {
      "image/png": "[encoded data removed]",
      "text/plain": [
       "<Figure size 1296x432 with 2 Axes>"
      ]
     },
     "metadata": {
      "needs_background": "light"
     },
     "output_type": "display_data"
    }
   ],
   "source": [
    "plt.figure(figsize=(18,6))\n",
    "\n",
    "ax1=plt.subplot(1,2,1)\n",
    "sns.barplot(x=mon_conf_ind.index, y='TargetValue', data=mon_conf_ind,palette='viridis')\n",
    "plt.xlabel('Month',fontsize=12)\n",
    "plt.ylabel('Number of Confirmed Cases',fontsize=12)\n",
    "plt.title('Monthly Number of Confirmed Cases in India',fontsize=15)\n",
    "\n",
    "ax2=plt.subplot(1,2,2,sharey=ax1)\n",
    "sns.barplot(x=mon_dd_ind.index, y='TargetValue', data=mon_dd_ind,palette='viridis')\n",
    "plt.xlabel('Month',fontsize=12)\n",
    "plt.ylabel('')\n",
    "ax2.set_yticks([])\n",
    "plt.title('Monthly Number of Dead Cases in India',fontsize=15)\n",
    "\n",
    "plt.show()"
   ]
  },
  {
   "cell_type": "markdown",
   "metadata": {
    "papermill": {
     "duration": 0.157217,
     "end_time": "2020-10-10T03:36:15.610179",
     "exception": false,
     "start_time": "2020-10-10T03:36:15.452962",
     "status": "completed"
    },
    "tags": []
   },
   "source": [
    "#### 5.2.4. Fatalities Versus Confirmed Cases in India"
   ]
  },
  {
   "cell_type": "code",
   "execution_count": 61,
   "metadata": {
    "execution": {
     "iopub.execute_input": "2020-10-10T03:36:15.933828Z",
     "iopub.status.busy": "2020-10-10T03:36:15.932940Z",
     "iopub.status.idle": "2020-10-10T03:36:15.937956Z",
     "shell.execute_reply": "2020-10-10T03:36:15.937163Z"
    },
    "papermill": {
     "duration": 0.168352,
     "end_time": "2020-10-10T03:36:15.938087",
     "exception": false,
     "start_time": "2020-10-10T03:36:15.769735",
     "status": "completed"
    },
    "tags": []
   },
   "outputs": [
    {
     "data": {
      "text/plain": [
       "276583"
      ]
     },
     "execution_count": 61,
     "metadata": {},
     "output_type": "execute_result"
    }
   ],
   "source": [
    "conf_ind['TargetValue'].sum()"
   ]
  },
  {
   "cell_type": "code",
   "execution_count": 62,
   "metadata": {
    "execution": {
     "iopub.execute_input": "2020-10-10T03:36:16.255792Z",
     "iopub.status.busy": "2020-10-10T03:36:16.254708Z",
     "iopub.status.idle": "2020-10-10T03:36:16.259637Z",
     "shell.execute_reply": "2020-10-10T03:36:16.258883Z"
    },
    "papermill": {
     "duration": 0.166336,
     "end_time": "2020-10-10T03:36:16.259766",
     "exception": false,
     "start_time": "2020-10-10T03:36:16.093430",
     "status": "completed"
    },
    "tags": []
   },
   "outputs": [
    {
     "data": {
      "text/plain": [
       "7745"
      ]
     },
     "execution_count": 62,
     "metadata": {},
     "output_type": "execute_result"
    }
   ],
   "source": [
    "dd_ind['TargetValue'].sum()"
   ]
  },
  {
   "cell_type": "code",
   "execution_count": 63,
   "metadata": {
    "execution": {
     "iopub.execute_input": "2020-10-10T03:36:16.594815Z",
     "iopub.status.busy": "2020-10-10T03:36:16.591705Z",
     "iopub.status.idle": "2020-10-10T03:36:16.665340Z",
     "shell.execute_reply": "2020-10-10T03:36:16.664604Z"
    },
    "papermill": {
     "duration": 0.246841,
     "end_time": "2020-10-10T03:36:16.665483",
     "exception": false,
     "start_time": "2020-10-10T03:36:16.418642",
     "status": "completed"
    },
    "scrolled": false,
    "tags": []
   },
   "outputs": [
    {
     "data": {
      "image/png": "[encoded data removed]",
      "text/plain": [
       "<Figure size 576x576 with 1 Axes>"
      ]
     },
     "metadata": {},
     "output_type": "display_data"
    }
   ],
   "source": [
    "plt.figure(figsize = (8,8))\n",
    "plt.pie(x=[276583,7745], labels=['Confirmed Cases','Fatalities'],pctdistance=0.7,labeldistance=1.1,autopct='%1.1f%%', explode=(0,0.3), shadow=True,colors=['c','pink'],startangle=90, data=india)\n",
    "plt.title('\\nPercentage Distribution of Fatalities and Confirmed Cases in India\\n\\n',loc='center',fontsize=15)\n",
    "plt.show()"
   ]
  },
  {
   "cell_type": "markdown",
   "metadata": {
    "papermill": {
     "duration": 0.158556,
     "end_time": "2020-10-10T03:36:16.982032",
     "exception": false,
     "start_time": "2020-10-10T03:36:16.823476",
     "status": "completed"
    },
    "tags": []
   },
   "source": [
    "## 6. Prediction of ConfirmedCases/Fatalities in Train Dataset"
   ]
  },
  {
   "cell_type": "markdown",
   "metadata": {
    "papermill": {
     "duration": 0.158723,
     "end_time": "2020-10-10T03:36:17.299460",
     "exception": false,
     "start_time": "2020-10-10T03:36:17.140737",
     "status": "completed"
    },
    "tags": []
   },
   "source": [
    "### 6.1. Label Encoding"
   ]
  },
  {
   "cell_type": "markdown",
   "metadata": {
    "papermill": {
     "duration": 0.156967,
     "end_time": "2020-10-10T03:36:17.616699",
     "exception": false,
     "start_time": "2020-10-10T03:36:17.459732",
     "status": "completed"
    },
    "tags": []
   },
   "source": [
    "**Country**"
   ]
  },
  {
   "cell_type": "code",
   "execution_count": 64,
   "metadata": {
    "execution": {
     "iopub.execute_input": "2020-10-10T03:36:17.938007Z",
     "iopub.status.busy": "2020-10-10T03:36:17.936888Z",
     "iopub.status.idle": "2020-10-10T03:36:17.939960Z",
     "shell.execute_reply": "2020-10-10T03:36:17.940538Z"
    },
    "papermill": {
     "duration": 0.166514,
     "end_time": "2020-10-10T03:36:17.940720",
     "exception": false,
     "start_time": "2020-10-10T03:36:17.774206",
     "status": "completed"
    },
    "tags": []
   },
   "outputs": [],
   "source": [
    "le1=LabelEncoder()"
   ]
  },
  {
   "cell_type": "code",
   "execution_count": 65,
   "metadata": {
    "execution": {
     "iopub.execute_input": "2020-10-10T03:36:18.316428Z",
     "iopub.status.busy": "2020-10-10T03:36:18.315625Z",
     "iopub.status.idle": "2020-10-10T03:36:18.323115Z",
     "shell.execute_reply": "2020-10-10T03:36:18.322347Z"
    },
    "papermill": {
     "duration": 0.222564,
     "end_time": "2020-10-10T03:36:18.323241",
     "exception": false,
     "start_time": "2020-10-10T03:36:18.100677",
     "status": "completed"
    },
    "tags": []
   },
   "outputs": [
    {
     "data": {
      "text/plain": [
       "LabelEncoder()"
      ]
     },
     "execution_count": 65,
     "metadata": {},
     "output_type": "execute_result"
    }
   ],
   "source": [
    "le1.fit(train['Country_Region'])"
   ]
  },
  {
   "cell_type": "code",
   "execution_count": 66,
   "metadata": {
    "execution": {
     "iopub.execute_input": "2020-10-10T03:36:18.670980Z",
     "iopub.status.busy": "2020-10-10T03:36:18.655289Z",
     "iopub.status.idle": "2020-10-10T03:36:18.964598Z",
     "shell.execute_reply": "2020-10-10T03:36:18.963781Z"
    },
    "papermill": {
     "duration": 0.480858,
     "end_time": "2020-10-10T03:36:18.964735",
     "exception": false,
     "start_time": "2020-10-10T03:36:18.483877",
     "status": "completed"
    },
    "tags": []
   },
   "outputs": [],
   "source": [
    "train['Encoded_Country']=le1.transform(train['Country_Region'])"
   ]
  },
  {
   "cell_type": "markdown",
   "metadata": {
    "papermill": {
     "duration": 0.159642,
     "end_time": "2020-10-10T03:36:19.284918",
     "exception": false,
     "start_time": "2020-10-10T03:36:19.125276",
     "status": "completed"
    },
    "tags": []
   },
   "source": [
    "**Target**"
   ]
  },
  {
   "cell_type": "code",
   "execution_count": 67,
   "metadata": {
    "execution": {
     "iopub.execute_input": "2020-10-10T03:36:19.610838Z",
     "iopub.status.busy": "2020-10-10T03:36:19.610033Z",
     "iopub.status.idle": "2020-10-10T03:36:19.613792Z",
     "shell.execute_reply": "2020-10-10T03:36:19.613014Z"
    },
    "papermill": {
     "duration": 0.168401,
     "end_time": "2020-10-10T03:36:19.613953",
     "exception": false,
     "start_time": "2020-10-10T03:36:19.445552",
     "status": "completed"
    },
    "tags": []
   },
   "outputs": [],
   "source": [
    "le2=LabelEncoder()"
   ]
  },
  {
   "cell_type": "code",
   "execution_count": 68,
   "metadata": {
    "execution": {
     "iopub.execute_input": "2020-10-10T03:36:19.995905Z",
     "iopub.status.busy": "2020-10-10T03:36:19.995020Z",
     "iopub.status.idle": "2020-10-10T03:36:20.000158Z",
     "shell.execute_reply": "2020-10-10T03:36:19.999386Z"
    },
    "papermill": {
     "duration": 0.22848,
     "end_time": "2020-10-10T03:36:20.000303",
     "exception": false,
     "start_time": "2020-10-10T03:36:19.771823",
     "status": "completed"
    },
    "tags": []
   },
   "outputs": [
    {
     "data": {
      "text/plain": [
       "LabelEncoder()"
      ]
     },
     "execution_count": 68,
     "metadata": {},
     "output_type": "execute_result"
    }
   ],
   "source": [
    "le2.fit(train['Target'])"
   ]
  },
  {
   "cell_type": "code",
   "execution_count": 69,
   "metadata": {
    "execution": {
     "iopub.execute_input": "2020-10-10T03:36:20.365900Z",
     "iopub.status.busy": "2020-10-10T03:36:20.345177Z",
     "iopub.status.idle": "2020-10-10T03:36:20.648817Z",
     "shell.execute_reply": "2020-10-10T03:36:20.648096Z"
    },
    "papermill": {
     "duration": 0.488323,
     "end_time": "2020-10-10T03:36:20.648946",
     "exception": false,
     "start_time": "2020-10-10T03:36:20.160623",
     "status": "completed"
    },
    "tags": []
   },
   "outputs": [],
   "source": [
    "train['Encoded_Target']=le2.transform(train['Target'])"
   ]
  },
  {
   "cell_type": "code",
   "execution_count": 70,
   "metadata": {
    "execution": {
     "iopub.execute_input": "2020-10-10T03:36:20.983484Z",
     "iopub.status.busy": "2020-10-10T03:36:20.982643Z",
     "iopub.status.idle": "2020-10-10T03:36:20.987516Z",
     "shell.execute_reply": "2020-10-10T03:36:20.986916Z"
    },
    "papermill": {
     "duration": 0.178574,
     "end_time": "2020-10-10T03:36:20.987651",
     "exception": false,
     "start_time": "2020-10-10T03:36:20.809077",
     "status": "completed"
    },
    "tags": []
   },
   "outputs": [
    {
     "data": {
      "text/html": [
       "<div>\n",
       "<style scoped>\n",
       "    .dataframe tbody tr th:only-of-type {\n",
       "        vertical-align: middle;\n",
       "    }\n",
       "\n",
       "    .dataframe tbody tr th {\n",
       "        vertical-align: top;\n",
       "    }\n",
       "\n",
       "    .dataframe thead th {\n",
       "        text-align: right;\n",
       "    }\n",
       "</style>\n",
       "<table border=\"1\" class=\"dataframe\">\n",
       "  <thead>\n",
       "    <tr style=\"text-align: right;\">\n",
       "      <th></th>\n",
       "      <th>Id</th>\n",
       "      <th>Country_Region</th>\n",
       "      <th>Population</th>\n",
       "      <th>Weight</th>\n",
       "      <th>Target</th>\n",
       "      <th>TargetValue</th>\n",
       "      <th>Month</th>\n",
       "      <th>Day</th>\n",
       "      <th>Encoded_Country</th>\n",
       "      <th>Encoded_Target</th>\n",
       "    </tr>\n",
       "  </thead>\n",
       "  <tbody>\n",
       "    <tr>\n",
       "      <td>0</td>\n",
       "      <td>1</td>\n",
       "      <td>Afghanistan</td>\n",
       "      <td>27657145</td>\n",
       "      <td>0.058359</td>\n",
       "      <td>ConfirmedCases</td>\n",
       "      <td>0</td>\n",
       "      <td>1</td>\n",
       "      <td>23</td>\n",
       "      <td>0</td>\n",
       "      <td>0</td>\n",
       "    </tr>\n",
       "    <tr>\n",
       "      <td>1</td>\n",
       "      <td>2</td>\n",
       "      <td>Afghanistan</td>\n",
       "      <td>27657145</td>\n",
       "      <td>0.583587</td>\n",
       "      <td>Fatalities</td>\n",
       "      <td>0</td>\n",
       "      <td>1</td>\n",
       "      <td>23</td>\n",
       "      <td>0</td>\n",
       "      <td>1</td>\n",
       "    </tr>\n",
       "    <tr>\n",
       "      <td>2</td>\n",
       "      <td>3</td>\n",
       "      <td>Afghanistan</td>\n",
       "      <td>27657145</td>\n",
       "      <td>0.058359</td>\n",
       "      <td>ConfirmedCases</td>\n",
       "      <td>0</td>\n",
       "      <td>1</td>\n",
       "      <td>24</td>\n",
       "      <td>0</td>\n",
       "      <td>0</td>\n",
       "    </tr>\n",
       "  </tbody>\n",
       "</table>\n",
       "</div>"
      ],
      "text/plain": [
       "   Id Country_Region  Population    Weight          Target  TargetValue  \\\n",
       "0   1    Afghanistan    27657145  0.058359  ConfirmedCases            0   \n",
       "1   2    Afghanistan    27657145  0.583587      Fatalities            0   \n",
       "2   3    Afghanistan    27657145  0.058359  ConfirmedCases            0   \n",
       "\n",
       "   Month  Day  Encoded_Country  Encoded_Target  \n",
       "0      1   23                0               0  \n",
       "1      1   23                0               1  \n",
       "2      1   24                0               0  "
      ]
     },
     "execution_count": 70,
     "metadata": {},
     "output_type": "execute_result"
    }
   ],
   "source": [
    "train.head(3)"
   ]
  },
  {
   "cell_type": "markdown",
   "metadata": {
    "papermill": {
     "duration": 0.161986,
     "end_time": "2020-10-10T03:36:21.311597",
     "exception": false,
     "start_time": "2020-10-10T03:36:21.149611",
     "status": "completed"
    },
    "tags": []
   },
   "source": [
    "### 6.2. Splitting Data into Train and Test Subsets"
   ]
  },
  {
   "cell_type": "code",
   "execution_count": 71,
   "metadata": {
    "execution": {
     "iopub.execute_input": "2020-10-10T03:36:21.642558Z",
     "iopub.status.busy": "2020-10-10T03:36:21.641762Z",
     "iopub.status.idle": "2020-10-10T03:36:21.708456Z",
     "shell.execute_reply": "2020-10-10T03:36:21.707638Z"
    },
    "papermill": {
     "duration": 0.234856,
     "end_time": "2020-10-10T03:36:21.708613",
     "exception": false,
     "start_time": "2020-10-10T03:36:21.473757",
     "status": "completed"
    },
    "tags": []
   },
   "outputs": [],
   "source": [
    "y=train['TargetValue']\n",
    "X=train[['Encoded_Country','Encoded_Target','Weight','Month','Day']]"
   ]
  },
  {
   "cell_type": "code",
   "execution_count": 72,
   "metadata": {
    "execution": {
     "iopub.execute_input": "2020-10-10T03:36:22.072076Z",
     "iopub.status.busy": "2020-10-10T03:36:22.071267Z",
     "iopub.status.idle": "2020-10-10T03:36:22.229097Z",
     "shell.execute_reply": "2020-10-10T03:36:22.228263Z"
    },
    "papermill": {
     "duration": 0.327772,
     "end_time": "2020-10-10T03:36:22.229229",
     "exception": false,
     "start_time": "2020-10-10T03:36:21.901457",
     "status": "completed"
    },
    "tags": []
   },
   "outputs": [],
   "source": [
    "X_train, X_test, y_train, y_test = train_test_split(X, y, test_size=0.2, random_state=7)"
   ]
  },
  {
   "cell_type": "markdown",
   "metadata": {
    "papermill": {
     "duration": 0.168182,
     "end_time": "2020-10-10T03:36:22.558651",
     "exception": false,
     "start_time": "2020-10-10T03:36:22.390469",
     "status": "completed"
    },
    "tags": []
   },
   "source": [
    "### 6.3. Random Forest Regressor"
   ]
  },
  {
   "cell_type": "code",
   "execution_count": 73,
   "metadata": {
    "execution": {
     "iopub.execute_input": "2020-10-10T03:36:22.892694Z",
     "iopub.status.busy": "2020-10-10T03:36:22.891777Z",
     "iopub.status.idle": "2020-10-10T03:36:22.895642Z",
     "shell.execute_reply": "2020-10-10T03:36:22.894981Z"
    },
    "papermill": {
     "duration": 0.172914,
     "end_time": "2020-10-10T03:36:22.895782",
     "exception": false,
     "start_time": "2020-10-10T03:36:22.722868",
     "status": "completed"
    },
    "tags": []
   },
   "outputs": [],
   "source": [
    "rf=RandomForestRegressor()"
   ]
  },
  {
   "cell_type": "code",
   "execution_count": 74,
   "metadata": {
    "execution": {
     "iopub.execute_input": "2020-10-10T03:36:23.227648Z",
     "iopub.status.busy": "2020-10-10T03:36:23.226374Z",
     "iopub.status.idle": "2020-10-10T03:39:43.154935Z",
     "shell.execute_reply": "2020-10-10T03:39:43.155607Z"
    },
    "papermill": {
     "duration": 200.098112,
     "end_time": "2020-10-10T03:39:43.155799",
     "exception": false,
     "start_time": "2020-10-10T03:36:23.057687",
     "status": "completed"
    },
    "tags": []
   },
   "outputs": [
    {
     "name": "stderr",
     "output_type": "stream",
     "text": [
      "C:\\Users\\Soha\\Anaconda3\\lib\\site-packages\\sklearn\\ensemble\\forest.py:245: FutureWarning:\n",
      "\n",
      "The default value of n_estimators will change from 10 in version 0.20 to 100 in 0.22.\n",
      "\n"
     ]
    },
    {
     "data": {
      "text/plain": [
       "RandomForestRegressor(bootstrap=True, criterion='mse', max_depth=None,\n",
       "                      max_features='auto', max_leaf_nodes=None,\n",
       "                      min_impurity_decrease=0.0, min_impurity_split=None,\n",
       "                      min_samples_leaf=1, min_samples_split=2,\n",
       "                      min_weight_fraction_leaf=0.0, n_estimators=10,\n",
       "                      n_jobs=None, oob_score=False, random_state=None,\n",
       "                      verbose=0, warm_start=False)"
      ]
     },
     "execution_count": 74,
     "metadata": {},
     "output_type": "execute_result"
    }
   ],
   "source": [
    "rf.fit (X_train,y_train)"
   ]
  },
  {
   "cell_type": "code",
   "execution_count": 75,
   "metadata": {
    "execution": {
     "iopub.execute_input": "2020-10-10T03:39:43.540215Z",
     "iopub.status.busy": "2020-10-10T03:39:43.539356Z",
     "iopub.status.idle": "2020-10-10T03:39:52.744291Z",
     "shell.execute_reply": "2020-10-10T03:39:52.743471Z"
    },
    "papermill": {
     "duration": 9.377403,
     "end_time": "2020-10-10T03:39:52.744419",
     "exception": false,
     "start_time": "2020-10-10T03:39:43.367016",
     "status": "completed"
    },
    "tags": []
   },
   "outputs": [],
   "source": [
    "predictions_rf=rf.predict(X_test)"
   ]
  },
  {
   "cell_type": "code",
   "execution_count": 76,
   "metadata": {},
   "outputs": [
    {
     "name": "stdout",
     "output_type": "stream",
     "text": [
      "RMSE_Random Forest Regression= 70.92926657191644\n",
      "R2 Score_Random Forest Regression= 0.9482705452629869\n"
     ]
    }
   ],
   "source": [
    "print('RMSE_Random Forest Regression=', np.sqrt(metrics.mean_squared_error(y_test,predictions_rf)))\n",
    "print('R2 Score_Random Forest Regression=',metrics.r2_score(y_test,predictions_rf))"
   ]
  },
  {
   "cell_type": "code",
   "execution_count": 77,
   "metadata": {
    "execution": {
     "iopub.execute_input": "2020-10-10T03:39:54.111260Z",
     "iopub.status.busy": "2020-10-10T03:39:54.110114Z",
     "iopub.status.idle": "2020-10-10T03:39:54.887462Z",
     "shell.execute_reply": "2020-10-10T03:39:54.886683Z"
    },
    "papermill": {
     "duration": 0.961055,
     "end_time": "2020-10-10T03:39:54.887610",
     "exception": false,
     "start_time": "2020-10-10T03:39:53.926555",
     "status": "completed"
    },
    "tags": []
   },
   "outputs": [
    {
     "data": {
      "image/png": "[encoded data removed]",
      "text/plain": [
       "<Figure size 576x432 with 1 Axes>"
      ]
     },
     "metadata": {
      "needs_background": "light"
     },
     "output_type": "display_data"
    }
   ],
   "source": [
    "plt.figure(figsize=(8,6))\n",
    "plt.plot(y_test,y_test,color='deeppink')\n",
    "plt.scatter(y_test,predictions_rf,color='dodgerblue')\n",
    "plt.xlabel('Actual Target Value',fontsize=15)\n",
    "plt.ylabel('Predicted Target Value',fontsize=15)\n",
    "plt.title('Random Forest Regressor (R2 Score= 0.95)',fontsize=14)\n",
    "plt.show()"
   ]
  },
  {
   "cell_type": "markdown",
   "metadata": {
    "papermill": {
     "duration": 0.17069,
     "end_time": "2020-10-10T03:39:55.578750",
     "exception": false,
     "start_time": "2020-10-10T03:39:55.408060",
     "status": "completed"
    },
    "tags": []
   },
   "source": [
    "### 6.4. XGBoost Regressor"
   ]
  },
  {
   "cell_type": "code",
   "execution_count": 78,
   "metadata": {
    "execution": {
     "iopub.execute_input": "2020-10-10T03:39:56.271922Z",
     "iopub.status.busy": "2020-10-10T03:39:56.271016Z",
     "iopub.status.idle": "2020-10-10T03:39:56.274461Z",
     "shell.execute_reply": "2020-10-10T03:39:56.273741Z"
    },
    "papermill": {
     "duration": 0.180235,
     "end_time": "2020-10-10T03:39:56.274610",
     "exception": false,
     "start_time": "2020-10-10T03:39:56.094375",
     "status": "completed"
    },
    "tags": []
   },
   "outputs": [],
   "source": [
    "xgbr= xgb.XGBRegressor(n_estimators=800, learning_rate=0.01, gamma=0, subsample=.7,\n",
    "                       colsample_bytree=.7, max_depth=10,\n",
    "                       min_child_weight=0, \n",
    "                       objective='reg:squarederror', nthread=-1, scale_pos_weight=1,\n",
    "                       seed=27, reg_alpha=0.00006, n_jobs=-1)"
   ]
  },
  {
   "cell_type": "code",
   "execution_count": 79,
   "metadata": {
    "execution": {
     "iopub.execute_input": "2020-10-10T03:39:56.617762Z",
     "iopub.status.busy": "2020-10-10T03:39:56.616876Z",
     "iopub.status.idle": "2020-10-10T03:48:41.018481Z",
     "shell.execute_reply": "2020-10-10T03:48:41.019162Z"
    },
    "papermill": {
     "duration": 524.576628,
     "end_time": "2020-10-10T03:48:41.019335",
     "exception": false,
     "start_time": "2020-10-10T03:39:56.442707",
     "status": "completed"
    },
    "scrolled": true,
    "tags": []
   },
   "outputs": [
    {
     "data": {
      "text/plain": [
       "XGBRegressor(base_score=0.5, booster='gbtree', colsample_bylevel=1,\n",
       "             colsample_bynode=1, colsample_bytree=0.7, gamma=0, gpu_id=-1,\n",
       "             importance_type='gain', interaction_constraints='',\n",
       "             learning_rate=0.01, max_delta_step=0, max_depth=10,\n",
       "             min_child_weight=0, missing=nan, monotone_constraints='()',\n",
       "             n_estimators=800, n_jobs=-1, nthread=-1, num_parallel_tree=1,\n",
       "             objective='reg:squarederror', random_state=27, reg_alpha=6e-05,\n",
       "             reg_lambda=1, scale_pos_weight=1, seed=27, subsample=0.7,\n",
       "             tree_method='exact', validate_parameters=1, verbosity=None)"
      ]
     },
     "execution_count": 79,
     "metadata": {},
     "output_type": "execute_result"
    }
   ],
   "source": [
    "xgbr.fit(X_train,y_train)"
   ]
  },
  {
   "cell_type": "code",
   "execution_count": 80,
   "metadata": {
    "execution": {
     "iopub.execute_input": "2020-10-10T03:48:41.364876Z",
     "iopub.status.busy": "2020-10-10T03:48:41.364025Z",
     "iopub.status.idle": "2020-10-10T03:49:24.992709Z",
     "shell.execute_reply": "2020-10-10T03:49:24.991668Z"
    },
    "papermill": {
     "duration": 43.804538,
     "end_time": "2020-10-10T03:49:24.992883",
     "exception": false,
     "start_time": "2020-10-10T03:48:41.188345",
     "status": "completed"
    },
    "tags": []
   },
   "outputs": [],
   "source": [
    "prediction_xgbr=xgbr.predict(X_test)"
   ]
  },
  {
   "cell_type": "code",
   "execution_count": 81,
   "metadata": {
    "execution": {
     "iopub.execute_input": "2020-10-10T03:49:25.332104Z",
     "iopub.status.busy": "2020-10-10T03:49:25.331270Z",
     "iopub.status.idle": "2020-10-10T03:49:25.341469Z",
     "shell.execute_reply": "2020-10-10T03:49:25.340648Z"
    },
    "papermill": {
     "duration": 0.182324,
     "end_time": "2020-10-10T03:49:25.341634",
     "exception": false,
     "start_time": "2020-10-10T03:49:25.159310",
     "status": "completed"
    },
    "tags": []
   },
   "outputs": [
    {
     "name": "stdout",
     "output_type": "stream",
     "text": [
      "RMSE_XGBoost Regression= 104.03036184811347\n",
      "R2 Score_XGBoost Regression= 0.8887225459942268\n"
     ]
    }
   ],
   "source": [
    "print('RMSE_XGBoost Regression=', np.sqrt(metrics.mean_squared_error(y_test,prediction_xgbr)))\n",
    "print('R2 Score_XGBoost Regression=',metrics.r2_score(y_test,prediction_xgbr))"
   ]
  },
  {
   "cell_type": "code",
   "execution_count": 82,
   "metadata": {
    "execution": {
     "iopub.execute_input": "2020-10-10T03:49:25.684601Z",
     "iopub.status.busy": "2020-10-10T03:49:25.683809Z",
     "iopub.status.idle": "2020-10-10T03:49:26.450349Z",
     "shell.execute_reply": "2020-10-10T03:49:26.449733Z"
    },
    "papermill": {
     "duration": 0.941924,
     "end_time": "2020-10-10T03:49:26.450517",
     "exception": false,
     "start_time": "2020-10-10T03:49:25.508593",
     "status": "completed"
    },
    "tags": []
   },
   "outputs": [
    {
     "data": {
      "image/png": "[encoded data removed]",
      "text/plain": [
       "<Figure size 576x432 with 1 Axes>"
      ]
     },
     "metadata": {
      "needs_background": "light"
     },
     "output_type": "display_data"
    }
   ],
   "source": [
    "plt.figure(figsize=(8,6))\n",
    "plt.scatter(x=y_test, y=prediction_xgbr, color='dodgerblue')\n",
    "plt.plot(y_test,y_test, color='deeppink')\n",
    "plt.xlabel('Actual Target Value',fontsize=15)\n",
    "plt.ylabel('Predicted Target Value',fontsize=15)\n",
    "plt.title('XGBoost Regressor (R2 Score= 0.89)',fontsize=14)\n",
    "plt.show()"
   ]
  },
  {
   "cell_type": "markdown",
   "metadata": {
    "papermill": {
     "duration": 0.171332,
     "end_time": "2020-10-10T03:49:26.790893",
     "exception": false,
     "start_time": "2020-10-10T03:49:26.619561",
     "status": "completed"
    },
    "tags": []
   },
   "source": [
    "## 7. Preprocessing the Test Dataset"
   ]
  },
  {
   "cell_type": "markdown",
   "metadata": {
    "papermill": {
     "duration": 0.17091,
     "end_time": "2020-10-10T03:49:27.131203",
     "exception": false,
     "start_time": "2020-10-10T03:49:26.960293",
     "status": "completed"
    },
    "tags": []
   },
   "source": [
    "### 7.1. Label Encoding "
   ]
  },
  {
   "cell_type": "markdown",
   "metadata": {
    "papermill": {
     "duration": 0.168315,
     "end_time": "2020-10-10T03:49:27.469338",
     "exception": false,
     "start_time": "2020-10-10T03:49:27.301023",
     "status": "completed"
    },
    "tags": []
   },
   "source": [
    "**Country**"
   ]
  },
  {
   "cell_type": "code",
   "execution_count": 83,
   "metadata": {
    "execution": {
     "iopub.execute_input": "2020-10-10T03:49:27.811411Z",
     "iopub.status.busy": "2020-10-10T03:49:27.810603Z",
     "iopub.status.idle": "2020-10-10T03:49:27.814230Z",
     "shell.execute_reply": "2020-10-10T03:49:27.813465Z"
    },
    "papermill": {
     "duration": 0.177918,
     "end_time": "2020-10-10T03:49:27.814355",
     "exception": false,
     "start_time": "2020-10-10T03:49:27.636437",
     "status": "completed"
    },
    "tags": []
   },
   "outputs": [],
   "source": [
    "le3=LabelEncoder()"
   ]
  },
  {
   "cell_type": "code",
   "execution_count": 84,
   "metadata": {
    "execution": {
     "iopub.execute_input": "2020-10-10T03:49:28.174887Z",
     "iopub.status.busy": "2020-10-10T03:49:28.173868Z",
     "iopub.status.idle": "2020-10-10T03:49:28.178956Z",
     "shell.execute_reply": "2020-10-10T03:49:28.178362Z"
    },
    "papermill": {
     "duration": 0.196559,
     "end_time": "2020-10-10T03:49:28.179090",
     "exception": false,
     "start_time": "2020-10-10T03:49:27.982531",
     "status": "completed"
    },
    "tags": []
   },
   "outputs": [
    {
     "data": {
      "text/plain": [
       "LabelEncoder()"
      ]
     },
     "execution_count": 84,
     "metadata": {},
     "output_type": "execute_result"
    }
   ],
   "source": [
    "le3.fit(test['Country_Region'])"
   ]
  },
  {
   "cell_type": "code",
   "execution_count": 85,
   "metadata": {
    "execution": {
     "iopub.execute_input": "2020-10-10T03:49:28.533670Z",
     "iopub.status.busy": "2020-10-10T03:49:28.528136Z",
     "iopub.status.idle": "2020-10-10T03:49:28.630851Z",
     "shell.execute_reply": "2020-10-10T03:49:28.630048Z"
    },
    "papermill": {
     "duration": 0.280636,
     "end_time": "2020-10-10T03:49:28.630988",
     "exception": false,
     "start_time": "2020-10-10T03:49:28.350352",
     "status": "completed"
    },
    "tags": []
   },
   "outputs": [],
   "source": [
    "test['Encoded_Country']=le3.transform(test['Country_Region'])"
   ]
  },
  {
   "cell_type": "markdown",
   "metadata": {
    "papermill": {
     "duration": 0.168548,
     "end_time": "2020-10-10T03:49:28.969367",
     "exception": false,
     "start_time": "2020-10-10T03:49:28.800819",
     "status": "completed"
    },
    "tags": []
   },
   "source": [
    "**Target**"
   ]
  },
  {
   "cell_type": "code",
   "execution_count": 86,
   "metadata": {
    "execution": {
     "iopub.execute_input": "2020-10-10T03:49:29.316805Z",
     "iopub.status.busy": "2020-10-10T03:49:29.316031Z",
     "iopub.status.idle": "2020-10-10T03:49:29.319251Z",
     "shell.execute_reply": "2020-10-10T03:49:29.318490Z"
    },
    "papermill": {
     "duration": 0.179523,
     "end_time": "2020-10-10T03:49:29.319377",
     "exception": false,
     "start_time": "2020-10-10T03:49:29.139854",
     "status": "completed"
    },
    "tags": []
   },
   "outputs": [],
   "source": [
    "le4=LabelEncoder()"
   ]
  },
  {
   "cell_type": "code",
   "execution_count": 87,
   "metadata": {
    "execution": {
     "iopub.execute_input": "2020-10-10T03:49:29.687901Z",
     "iopub.status.busy": "2020-10-10T03:49:29.686899Z",
     "iopub.status.idle": "2020-10-10T03:49:29.691149Z",
     "shell.execute_reply": "2020-10-10T03:49:29.691710Z"
    },
    "papermill": {
     "duration": 0.198995,
     "end_time": "2020-10-10T03:49:29.691876",
     "exception": false,
     "start_time": "2020-10-10T03:49:29.492881",
     "status": "completed"
    },
    "tags": []
   },
   "outputs": [
    {
     "data": {
      "text/plain": [
       "LabelEncoder()"
      ]
     },
     "execution_count": 87,
     "metadata": {},
     "output_type": "execute_result"
    }
   ],
   "source": [
    "le4.fit(test['Target'])"
   ]
  },
  {
   "cell_type": "code",
   "execution_count": 88,
   "metadata": {
    "execution": {
     "iopub.execute_input": "2020-10-10T03:49:30.093339Z",
     "iopub.status.busy": "2020-10-10T03:49:30.088118Z",
     "iopub.status.idle": "2020-10-10T03:49:30.190914Z",
     "shell.execute_reply": "2020-10-10T03:49:30.190063Z"
    },
    "papermill": {
     "duration": 0.283729,
     "end_time": "2020-10-10T03:49:30.191045",
     "exception": false,
     "start_time": "2020-10-10T03:49:29.907316",
     "status": "completed"
    },
    "tags": []
   },
   "outputs": [],
   "source": [
    "test['Encoded_Target']=le4.transform(test['Target'])"
   ]
  },
  {
   "cell_type": "code",
   "execution_count": 89,
   "metadata": {
    "execution": {
     "iopub.execute_input": "2020-10-10T03:49:30.543728Z",
     "iopub.status.busy": "2020-10-10T03:49:30.542875Z",
     "iopub.status.idle": "2020-10-10T03:49:30.557255Z",
     "shell.execute_reply": "2020-10-10T03:49:30.556590Z"
    },
    "papermill": {
     "duration": 0.19337,
     "end_time": "2020-10-10T03:49:30.557384",
     "exception": false,
     "start_time": "2020-10-10T03:49:30.364014",
     "status": "completed"
    },
    "tags": []
   },
   "outputs": [],
   "source": [
    "test=test[['Encoded_Country','Encoded_Target','Weight','Month','Day']]"
   ]
  },
  {
   "cell_type": "code",
   "execution_count": 90,
   "metadata": {
    "execution": {
     "iopub.execute_input": "2020-10-10T03:49:30.912718Z",
     "iopub.status.busy": "2020-10-10T03:49:30.911844Z",
     "iopub.status.idle": "2020-10-10T03:49:30.916953Z",
     "shell.execute_reply": "2020-10-10T03:49:30.916214Z"
    },
    "papermill": {
     "duration": 0.187956,
     "end_time": "2020-10-10T03:49:30.917102",
     "exception": false,
     "start_time": "2020-10-10T03:49:30.729146",
     "status": "completed"
    },
    "tags": []
   },
   "outputs": [
    {
     "data": {
      "text/html": [
       "<div>\n",
       "<style scoped>\n",
       "    .dataframe tbody tr th:only-of-type {\n",
       "        vertical-align: middle;\n",
       "    }\n",
       "\n",
       "    .dataframe tbody tr th {\n",
       "        vertical-align: top;\n",
       "    }\n",
       "\n",
       "    .dataframe thead th {\n",
       "        text-align: right;\n",
       "    }\n",
       "</style>\n",
       "<table border=\"1\" class=\"dataframe\">\n",
       "  <thead>\n",
       "    <tr style=\"text-align: right;\">\n",
       "      <th></th>\n",
       "      <th>Encoded_Country</th>\n",
       "      <th>Encoded_Target</th>\n",
       "      <th>Weight</th>\n",
       "      <th>Month</th>\n",
       "      <th>Day</th>\n",
       "    </tr>\n",
       "  </thead>\n",
       "  <tbody>\n",
       "    <tr>\n",
       "      <td>0</td>\n",
       "      <td>0</td>\n",
       "      <td>0</td>\n",
       "      <td>0.058359</td>\n",
       "      <td>4</td>\n",
       "      <td>27</td>\n",
       "    </tr>\n",
       "    <tr>\n",
       "      <td>1</td>\n",
       "      <td>0</td>\n",
       "      <td>1</td>\n",
       "      <td>0.583587</td>\n",
       "      <td>4</td>\n",
       "      <td>27</td>\n",
       "    </tr>\n",
       "    <tr>\n",
       "      <td>2</td>\n",
       "      <td>0</td>\n",
       "      <td>0</td>\n",
       "      <td>0.058359</td>\n",
       "      <td>4</td>\n",
       "      <td>28</td>\n",
       "    </tr>\n",
       "  </tbody>\n",
       "</table>\n",
       "</div>"
      ],
      "text/plain": [
       "   Encoded_Country  Encoded_Target    Weight  Month  Day\n",
       "0                0               0  0.058359      4   27\n",
       "1                0               1  0.583587      4   27\n",
       "2                0               0  0.058359      4   28"
      ]
     },
     "execution_count": 90,
     "metadata": {},
     "output_type": "execute_result"
    }
   ],
   "source": [
    "test.head(3)"
   ]
  },
  {
   "cell_type": "markdown",
   "metadata": {
    "papermill": {
     "duration": 0.173593,
     "end_time": "2020-10-10T03:49:31.264233",
     "exception": false,
     "start_time": "2020-10-10T03:49:31.090640",
     "status": "completed"
    },
    "tags": []
   },
   "source": [
    "## 8. Prediction of ConfirmedCases/Fatalities in the Test Dataset"
   ]
  },
  {
   "cell_type": "code",
   "execution_count": 91,
   "metadata": {
    "execution": {
     "iopub.execute_input": "2020-10-10T03:49:31.611937Z",
     "iopub.status.busy": "2020-10-10T03:49:31.611107Z",
     "iopub.status.idle": "2020-10-10T03:50:12.867628Z",
     "shell.execute_reply": "2020-10-10T03:50:12.866761Z"
    },
    "papermill": {
     "duration": 41.433355,
     "end_time": "2020-10-10T03:50:12.867766",
     "exception": false,
     "start_time": "2020-10-10T03:49:31.434411",
     "status": "completed"
    },
    "tags": []
   },
   "outputs": [],
   "source": [
    "pred=xgbr.predict(test)"
   ]
  },
  {
   "cell_type": "markdown",
   "metadata": {
    "papermill": {
     "duration": 0.174198,
     "end_time": "2020-10-10T03:50:13.219290",
     "exception": false,
     "start_time": "2020-10-10T03:50:13.045092",
     "status": "completed"
    },
    "tags": []
   },
   "source": [
    "## 9. Submission of the Results"
   ]
  },
  {
   "cell_type": "code",
   "execution_count": 92,
   "metadata": {
    "execution": {
     "iopub.execute_input": "2020-10-10T03:50:13.575540Z",
     "iopub.status.busy": "2020-10-10T03:50:13.574579Z",
     "iopub.status.idle": "2020-10-10T03:50:14.205188Z",
     "shell.execute_reply": "2020-10-10T03:50:14.203941Z"
    },
    "papermill": {
     "duration": 0.813003,
     "end_time": "2020-10-10T03:50:14.205363",
     "exception": false,
     "start_time": "2020-10-10T03:50:13.392360",
     "status": "completed"
    },
    "tags": []
   },
   "outputs": [],
   "source": [
    "submission=pd.read_csv('submission.csv')"
   ]
  },
  {
   "cell_type": "code",
   "execution_count": 93,
   "metadata": {
    "execution": {
     "iopub.execute_input": "2020-10-10T03:50:14.564357Z",
     "iopub.status.busy": "2020-10-10T03:50:14.563239Z",
     "iopub.status.idle": "2020-10-10T03:50:14.568605Z",
     "shell.execute_reply": "2020-10-10T03:50:14.567825Z"
    },
    "papermill": {
     "duration": 0.18917,
     "end_time": "2020-10-10T03:50:14.568744",
     "exception": false,
     "start_time": "2020-10-10T03:50:14.379574",
     "status": "completed"
    },
    "tags": []
   },
   "outputs": [
    {
     "data": {
      "text/html": [
       "<div>\n",
       "<style scoped>\n",
       "    .dataframe tbody tr th:only-of-type {\n",
       "        vertical-align: middle;\n",
       "    }\n",
       "\n",
       "    .dataframe tbody tr th {\n",
       "        vertical-align: top;\n",
       "    }\n",
       "\n",
       "    .dataframe thead th {\n",
       "        text-align: right;\n",
       "    }\n",
       "</style>\n",
       "<table border=\"1\" class=\"dataframe\">\n",
       "  <thead>\n",
       "    <tr style=\"text-align: right;\">\n",
       "      <th></th>\n",
       "      <th>ForecastId_Quantile</th>\n",
       "      <th>TargetValue</th>\n",
       "    </tr>\n",
       "  </thead>\n",
       "  <tbody>\n",
       "    <tr>\n",
       "      <td>0</td>\n",
       "      <td>1_0.05</td>\n",
       "      <td>163.335785</td>\n",
       "    </tr>\n",
       "    <tr>\n",
       "      <td>1</td>\n",
       "      <td>2_0.05</td>\n",
       "      <td>0.082656</td>\n",
       "    </tr>\n",
       "    <tr>\n",
       "      <td>2</td>\n",
       "      <td>3_0.05</td>\n",
       "      <td>151.497299</td>\n",
       "    </tr>\n",
       "  </tbody>\n",
       "</table>\n",
       "</div>"
      ],
      "text/plain": [
       "  ForecastId_Quantile  TargetValue\n",
       "0              1_0.05   163.335785\n",
       "1              2_0.05     0.082656\n",
       "2              3_0.05   151.497299"
      ]
     },
     "execution_count": 93,
     "metadata": {},
     "output_type": "execute_result"
    }
   ],
   "source": [
    "submission.head(3)"
   ]
  },
  {
   "cell_type": "code",
   "execution_count": 94,
   "metadata": {
    "execution": {
     "iopub.execute_input": "2020-10-10T03:50:14.928824Z",
     "iopub.status.busy": "2020-10-10T03:50:14.928027Z",
     "iopub.status.idle": "2020-10-10T03:50:15.344858Z",
     "shell.execute_reply": "2020-10-10T03:50:15.344106Z"
    },
    "papermill": {
     "duration": 0.599576,
     "end_time": "2020-10-10T03:50:15.344993",
     "exception": false,
     "start_time": "2020-10-10T03:50:14.745417",
     "status": "completed"
    },
    "tags": []
   },
   "outputs": [],
   "source": [
    "test_1=pd.read_csv('test.csv')"
   ]
  },
  {
   "cell_type": "code",
   "execution_count": 95,
   "metadata": {
    "execution": {
     "iopub.execute_input": "2020-10-10T03:50:15.699072Z",
     "iopub.status.busy": "2020-10-10T03:50:15.698122Z",
     "iopub.status.idle": "2020-10-10T03:50:15.702559Z",
     "shell.execute_reply": "2020-10-10T03:50:15.701801Z"
    },
    "papermill": {
     "duration": 0.182918,
     "end_time": "2020-10-10T03:50:15.702692",
     "exception": false,
     "start_time": "2020-10-10T03:50:15.519774",
     "status": "completed"
    },
    "tags": []
   },
   "outputs": [],
   "source": [
    "output=pd.DataFrame({'Id':test_1['ForecastId'], 'TargetValue':pred})"
   ]
  },
  {
   "cell_type": "code",
   "execution_count": 96,
   "metadata": {
    "execution": {
     "iopub.execute_input": "2020-10-10T03:50:16.057962Z",
     "iopub.status.busy": "2020-10-10T03:50:16.057200Z",
     "iopub.status.idle": "2020-10-10T03:50:16.388904Z",
     "shell.execute_reply": "2020-10-10T03:50:16.388217Z"
    },
    "papermill": {
     "duration": 0.51364,
     "end_time": "2020-10-10T03:50:16.389082",
     "exception": false,
     "start_time": "2020-10-10T03:50:15.875442",
     "status": "completed"
    },
    "tags": []
   },
   "outputs": [],
   "source": [
    "a=output.groupby(['Id']).quantile(q=0.05).reset_index()\n",
    "b=output.groupby(['Id']).quantile(q=0.5).reset_index()\n",
    "c=output.groupby(['Id']).quantile(q=0.95).reset_index()"
   ]
  },
  {
   "cell_type": "code",
   "execution_count": 97,
   "metadata": {
    "execution": {
     "iopub.execute_input": "2020-10-10T03:50:16.743998Z",
     "iopub.status.busy": "2020-10-10T03:50:16.742942Z",
     "iopub.status.idle": "2020-10-10T03:50:16.746203Z",
     "shell.execute_reply": "2020-10-10T03:50:16.745458Z"
    },
    "papermill": {
     "duration": 0.183402,
     "end_time": "2020-10-10T03:50:16.746326",
     "exception": false,
     "start_time": "2020-10-10T03:50:16.562924",
     "status": "completed"
    },
    "tags": []
   },
   "outputs": [],
   "source": [
    "a.columns=['Id','q0.05']\n",
    "b.columns=['Id','q0.5']\n",
    "c.columns=['Id','q0.95']"
   ]
  },
  {
   "cell_type": "code",
   "execution_count": 98,
   "metadata": {
    "execution": {
     "iopub.execute_input": "2020-10-10T03:50:17.100970Z",
     "iopub.status.busy": "2020-10-10T03:50:17.100144Z",
     "iopub.status.idle": "2020-10-10T03:50:17.106666Z",
     "shell.execute_reply": "2020-10-10T03:50:17.106039Z"
    },
    "papermill": {
     "duration": 0.187467,
     "end_time": "2020-10-10T03:50:17.106804",
     "exception": false,
     "start_time": "2020-10-10T03:50:16.919337",
     "status": "completed"
    },
    "tags": []
   },
   "outputs": [],
   "source": [
    "a['q0.5']=b['q0.5']\n",
    "a['q0.95']=c['q0.95']"
   ]
  },
  {
   "cell_type": "code",
   "execution_count": 99,
   "metadata": {
    "execution": {
     "iopub.execute_input": "2020-10-10T03:50:17.465017Z",
     "iopub.status.busy": "2020-10-10T03:50:17.464193Z",
     "iopub.status.idle": "2020-10-10T03:50:17.525728Z",
     "shell.execute_reply": "2020-10-10T03:50:17.524928Z"
    },
    "papermill": {
     "duration": 0.244924,
     "end_time": "2020-10-10T03:50:17.525862",
     "exception": false,
     "start_time": "2020-10-10T03:50:17.280938",
     "status": "completed"
    },
    "tags": []
   },
   "outputs": [],
   "source": [
    "sub=pd.melt(a, id_vars=['Id'], value_vars=['q0.05','q0.5','q0.95'])"
   ]
  },
  {
   "cell_type": "code",
   "execution_count": 100,
   "metadata": {
    "execution": {
     "iopub.execute_input": "2020-10-10T03:50:17.881606Z",
     "iopub.status.busy": "2020-10-10T03:50:17.880365Z",
     "iopub.status.idle": "2020-10-10T03:50:18.406344Z",
     "shell.execute_reply": "2020-10-10T03:50:18.405549Z"
    },
    "papermill": {
     "duration": 0.707477,
     "end_time": "2020-10-10T03:50:18.406526",
     "exception": false,
     "start_time": "2020-10-10T03:50:17.699049",
     "status": "completed"
    },
    "tags": []
   },
   "outputs": [],
   "source": [
    "sub['variable']=sub['variable'].apply(lambda x: x.replace('q',''))"
   ]
  },
  {
   "cell_type": "code",
   "execution_count": 101,
   "metadata": {
    "execution": {
     "iopub.execute_input": "2020-10-10T03:50:18.790772Z",
     "iopub.status.busy": "2020-10-10T03:50:18.789696Z",
     "iopub.status.idle": "2020-10-10T03:50:19.230317Z",
     "shell.execute_reply": "2020-10-10T03:50:19.229619Z"
    },
    "papermill": {
     "duration": 0.642722,
     "end_time": "2020-10-10T03:50:19.230454",
     "exception": false,
     "start_time": "2020-10-10T03:50:18.587732",
     "status": "completed"
    },
    "tags": []
   },
   "outputs": [],
   "source": [
    "sub['var']=sub['variable'].apply(lambda x: str(x))"
   ]
  },
  {
   "cell_type": "code",
   "execution_count": 102,
   "metadata": {
    "execution": {
     "iopub.execute_input": "2020-10-10T03:50:19.591253Z",
     "iopub.status.busy": "2020-10-10T03:50:19.590432Z",
     "iopub.status.idle": "2020-10-10T03:50:20.150431Z",
     "shell.execute_reply": "2020-10-10T03:50:20.149773Z"
    },
    "papermill": {
     "duration": 0.740104,
     "end_time": "2020-10-10T03:50:20.150579",
     "exception": false,
     "start_time": "2020-10-10T03:50:19.410475",
     "status": "completed"
    },
    "tags": []
   },
   "outputs": [],
   "source": [
    "sub['id']=sub['Id'].apply(lambda x: str(x))"
   ]
  },
  {
   "cell_type": "code",
   "execution_count": 103,
   "metadata": {
    "execution": {
     "iopub.execute_input": "2020-10-10T03:50:20.508517Z",
     "iopub.status.busy": "2020-10-10T03:50:20.507727Z",
     "iopub.status.idle": "2020-10-10T03:50:20.801965Z",
     "shell.execute_reply": "2020-10-10T03:50:20.801151Z"
    },
    "papermill": {
     "duration": 0.476406,
     "end_time": "2020-10-10T03:50:20.802104",
     "exception": false,
     "start_time": "2020-10-10T03:50:20.325698",
     "status": "completed"
    },
    "tags": []
   },
   "outputs": [],
   "source": [
    "sub['ForecastId_Quantile']=sub['id']+'_'+sub['var']"
   ]
  },
  {
   "cell_type": "code",
   "execution_count": 104,
   "metadata": {
    "execution": {
     "iopub.execute_input": "2020-10-10T03:50:21.161804Z",
     "iopub.status.busy": "2020-10-10T03:50:21.161019Z",
     "iopub.status.idle": "2020-10-10T03:50:21.399487Z",
     "shell.execute_reply": "2020-10-10T03:50:21.398837Z"
    },
    "papermill": {
     "duration": 0.420267,
     "end_time": "2020-10-10T03:50:21.399649",
     "exception": false,
     "start_time": "2020-10-10T03:50:20.979382",
     "status": "completed"
    },
    "tags": []
   },
   "outputs": [],
   "source": [
    "sub.drop(['Id','variable','var','id'],axis=1,inplace=True)"
   ]
  },
  {
   "cell_type": "code",
   "execution_count": 105,
   "metadata": {
    "execution": {
     "iopub.execute_input": "2020-10-10T03:50:21.757258Z",
     "iopub.status.busy": "2020-10-10T03:50:21.756152Z",
     "iopub.status.idle": "2020-10-10T03:50:21.759557Z",
     "shell.execute_reply": "2020-10-10T03:50:21.758811Z"
    },
    "papermill": {
     "duration": 0.185751,
     "end_time": "2020-10-10T03:50:21.759688",
     "exception": false,
     "start_time": "2020-10-10T03:50:21.573937",
     "status": "completed"
    },
    "tags": []
   },
   "outputs": [],
   "source": [
    "sub.columns=['TargetValue','ForecastId_Quantile']"
   ]
  },
  {
   "cell_type": "code",
   "execution_count": 106,
   "metadata": {
    "execution": {
     "iopub.execute_input": "2020-10-10T03:50:22.146624Z",
     "iopub.status.busy": "2020-10-10T03:50:22.145566Z",
     "iopub.status.idle": "2020-10-10T03:50:22.149331Z",
     "shell.execute_reply": "2020-10-10T03:50:22.148742Z"
    },
    "papermill": {
     "duration": 0.214206,
     "end_time": "2020-10-10T03:50:22.149470",
     "exception": false,
     "start_time": "2020-10-10T03:50:21.935264",
     "status": "completed"
    },
    "tags": []
   },
   "outputs": [],
   "source": [
    "sub=sub[['ForecastId_Quantile','TargetValue']]"
   ]
  },
  {
   "cell_type": "code",
   "execution_count": 107,
   "metadata": {
    "execution": {
     "iopub.execute_input": "2020-10-10T03:50:22.511177Z",
     "iopub.status.busy": "2020-10-10T03:50:22.510121Z",
     "iopub.status.idle": "2020-10-10T03:50:22.515192Z",
     "shell.execute_reply": "2020-10-10T03:50:22.514549Z"
    },
    "papermill": {
     "duration": 0.189354,
     "end_time": "2020-10-10T03:50:22.515335",
     "exception": false,
     "start_time": "2020-10-10T03:50:22.325981",
     "status": "completed"
    },
    "tags": []
   },
   "outputs": [
    {
     "data": {
      "text/html": [
       "<div>\n",
       "<style scoped>\n",
       "    .dataframe tbody tr th:only-of-type {\n",
       "        vertical-align: middle;\n",
       "    }\n",
       "\n",
       "    .dataframe tbody tr th {\n",
       "        vertical-align: top;\n",
       "    }\n",
       "\n",
       "    .dataframe thead th {\n",
       "        text-align: right;\n",
       "    }\n",
       "</style>\n",
       "<table border=\"1\" class=\"dataframe\">\n",
       "  <thead>\n",
       "    <tr style=\"text-align: right;\">\n",
       "      <th></th>\n",
       "      <th>ForecastId_Quantile</th>\n",
       "      <th>TargetValue</th>\n",
       "    </tr>\n",
       "  </thead>\n",
       "  <tbody>\n",
       "    <tr>\n",
       "      <td>0</td>\n",
       "      <td>1_0.05</td>\n",
       "      <td>163.335785</td>\n",
       "    </tr>\n",
       "    <tr>\n",
       "      <td>1</td>\n",
       "      <td>2_0.05</td>\n",
       "      <td>0.082656</td>\n",
       "    </tr>\n",
       "    <tr>\n",
       "      <td>2</td>\n",
       "      <td>3_0.05</td>\n",
       "      <td>151.497299</td>\n",
       "    </tr>\n",
       "  </tbody>\n",
       "</table>\n",
       "</div>"
      ],
      "text/plain": [
       "  ForecastId_Quantile  TargetValue\n",
       "0              1_0.05   163.335785\n",
       "1              2_0.05     0.082656\n",
       "2              3_0.05   151.497299"
      ]
     },
     "execution_count": 107,
     "metadata": {},
     "output_type": "execute_result"
    }
   ],
   "source": [
    "sub.head(3)"
   ]
  },
  {
   "cell_type": "code",
   "execution_count": 108,
   "metadata": {
    "execution": {
     "iopub.execute_input": "2020-10-10T03:50:22.874619Z",
     "iopub.status.busy": "2020-10-10T03:50:22.873566Z",
     "iopub.status.idle": "2020-10-10T03:50:27.346353Z",
     "shell.execute_reply": "2020-10-10T03:50:27.347040Z"
    },
    "papermill": {
     "duration": 4.656704,
     "end_time": "2020-10-10T03:50:27.347226",
     "exception": false,
     "start_time": "2020-10-10T03:50:22.690522",
     "status": "completed"
    },
    "tags": []
   },
   "outputs": [],
   "source": [
    "sub.to_csv(\"submission.csv\",index=False)"
   ]
  },
  {
   "cell_type": "markdown",
   "metadata": {},
   "source": [
    "## 10. Conclusion"
   ]
  },
  {
   "cell_type": "markdown",
   "metadata": {},
   "source": [
    "In this notebook, we used COVID19 Global Forecasting (Week 5) dataset and performed the following steps:\n",
    "\n",
    "- We performed detailed exploratory data analysis on the train dataset and determined the population of Confirmed Cases and Fatalities in various locations and in different months.\n",
    "\n",
    "- We implemented ensemble learning algorithms including XGBoost and Random Forest regressors to predict the daily number of confirmed COVID19 cases as well as the number of resulting fatalities in various locations across the world. The R2 Scores of these two models are 0.89 and 0.95, respectively."
   ]
  }
 ],
 "metadata": {
  "kernelspec": {
   "display_name": "Python 3",
   "language": "python",
   "name": "python3"
  },
  "language_info": {
   "codemirror_mode": {
    "name": "ipython",
    "version": 3
   },
   "file_extension": ".py",
   "mimetype": "text/x-python",
   "name": "python",
   "nbconvert_exporter": "python",
   "pygments_lexer": "ipython3",
   "version": "3.7.4"
  },
  "papermill": {
   "duration": 930.876151,
   "end_time": "2020-10-10T03:50:27.981917",
   "environment_variables": {},
   "exception": null,
   "input_path": "__notebook__.ipynb",
   "output_path": "__notebook__.ipynb",
   "parameters": {},
   "start_time": "2020-10-10T03:34:57.105766",
   "version": "2.1.0"
  },
  "toc": {
   "base_numbering": 1,
   "nav_menu": {},
   "number_sections": false,
   "sideBar": false,
   "skip_h1_title": false,
   "title_cell": "Table of Contents",
   "title_sidebar": "Contents",
   "toc_cell": false,
   "toc_position": {},
   "toc_section_display": false,
   "toc_window_display": false
  }
 },
 "nbformat": 4,
 "nbformat_minor": 4
}
